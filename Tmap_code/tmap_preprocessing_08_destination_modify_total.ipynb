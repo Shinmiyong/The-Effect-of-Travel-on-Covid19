{
 "cells": [
  {
   "cell_type": "markdown",
   "metadata": {},
   "source": [
    "# OO도 OO시 OO군 조정"
   ]
  },
  {
   "cell_type": "code",
   "execution_count": 44,
   "metadata": {},
   "outputs": [],
   "source": [
    "import pandas as pd"
   ]
  },
  {
   "cell_type": "code",
   "execution_count": 45,
   "metadata": {},
   "outputs": [],
   "source": [
    "df_2020 = pd.read_csv('./tmap_prep_ver2/prep_tmap_month_20_total.csv', index_col=0)"
   ]
  },
  {
   "cell_type": "code",
   "execution_count": 46,
   "metadata": {},
   "outputs": [],
   "source": [
    "df = pd.read_csv('./tmap_prep_ver2/tmap_20_destination_modify.csv', index_col= 0)"
   ]
  },
  {
   "cell_type": "code",
   "execution_count": 47,
   "metadata": {},
   "outputs": [],
   "source": [
    "# 원본 파일에서\n",
    "# len(df_2019['지역 시군구'][0].split(' ')) == 3 이면 drop"
   ]
  },
  {
   "cell_type": "code",
   "execution_count": 48,
   "metadata": {},
   "outputs": [],
   "source": [
    "df_2020.reset_index(inplace=True)"
   ]
  },
  {
   "cell_type": "code",
   "execution_count": 49,
   "metadata": {},
   "outputs": [],
   "source": [
    "# OO도 OO시 OO구 출력\n",
    "a_list = []\n",
    "for i in range(0, len(df_2020)):\n",
    "    if len(df_2020['지역 시군구'][i].split(' ')) == 2:\n",
    "        data = df_2020.iloc[i]\n",
    "        a_list.append(data)\n",
    "test = pd.DataFrame(a_list)"
   ]
  },
  {
   "cell_type": "code",
   "execution_count": 50,
   "metadata": {},
   "outputs": [],
   "source": [
    "test.reset_index(drop=True, inplace= True)"
   ]
  },
  {
   "cell_type": "code",
   "execution_count": 51,
   "metadata": {},
   "outputs": [],
   "source": [
    "concat = pd.concat([test, df], axis= 'rows', ignore_index=True)"
   ]
  },
  {
   "cell_type": "code",
   "execution_count": 52,
   "metadata": {},
   "outputs": [],
   "source": [
    "concat.sort_values(['여행월', '지역 시군구'], inplace= True)\n",
    "concat.reset_index(drop=True, inplace= True)"
   ]
  },
  {
   "cell_type": "code",
   "execution_count": 53,
   "metadata": {},
   "outputs": [],
   "source": [
    "concat.to_csv('./tmap_prep_ver2/prep_tmap_month_20_total_modify.csv')"
   ]
  },
  {
   "cell_type": "markdown",
   "metadata": {},
   "source": [
    "# OO시 OO구 조정"
   ]
  },
  {
   "cell_type": "code",
   "execution_count": 72,
   "metadata": {},
   "outputs": [],
   "source": [
    "df = pd.read_csv('./tmap_prep_ver2/prep_tmap_month_20_total_modify.csv', index_col= 0)"
   ]
  },
  {
   "cell_type": "code",
   "execution_count": 73,
   "metadata": {},
   "outputs": [
    {
     "data": {
      "text/plain": [
       "지역 시군구    인천 남동구\n",
       "여행 횟수         34\n",
       "여행월           6월\n",
       "Name: 1271, dtype: object"
      ]
     },
     "execution_count": 73,
     "metadata": {},
     "output_type": "execute_result"
    }
   ],
   "source": [
    "df.iloc[1271]"
   ]
  },
  {
   "cell_type": "code",
   "execution_count": 74,
   "metadata": {},
   "outputs": [],
   "source": [
    "a_list = []\n",
    "for i in range(0, len(df)):\n",
    "    if df['지역 시군구'][i].split()[0] != '서울' and df['지역 시군구'][i].split()[0] != '부산' and df['지역 시군구'][i].split()[0] != '대구' and df['지역 시군구'][i].split()[0] != '인천' and df['지역 시군구'][i].split()[0] != '광주' and df['지역 시군구'][i].split()[0] != '대전' and df['지역 시군구'][i].split()[0] != '울산' and df['지역 시군구'][i].split()[0] != '세종' and df['지역 시군구'][i].split()[0] != '제주':\n",
    "        data = df.iloc[i]\n",
    "        a_list.append(data)"
   ]
  },
  {
   "cell_type": "code",
   "execution_count": 75,
   "metadata": {},
   "outputs": [],
   "source": [
    "df2 = pd.DataFrame(a_list)"
   ]
  },
  {
   "cell_type": "code",
   "execution_count": 76,
   "metadata": {},
   "outputs": [],
   "source": [
    "df2.to_csv('./tmap_prep_ver2/test.csv')"
   ]
  },
  {
   "cell_type": "code",
   "execution_count": 77,
   "metadata": {},
   "outputs": [],
   "source": [
    "df3 = pd.read_csv('./tmap_prep_ver2/tmap_20_destination_city_modify.csv', index_col= 0)"
   ]
  },
  {
   "cell_type": "code",
   "execution_count": 78,
   "metadata": {},
   "outputs": [],
   "source": [
    "df4 = pd.concat([df2, df3], axis= 'rows', ignore_index= True)"
   ]
  },
  {
   "cell_type": "code",
   "execution_count": 79,
   "metadata": {},
   "outputs": [],
   "source": [
    "df4.to_csv('./tmap_prep_ver2/tmap_20_real_final.csv')"
   ]
  }
 ],
 "metadata": {
  "kernelspec": {
   "display_name": "Python 3",
   "language": "python",
   "name": "python3"
  },
  "language_info": {
   "codemirror_mode": {
    "name": "ipython",
    "version": 3
   },
   "file_extension": ".py",
   "mimetype": "text/x-python",
   "name": "python",
   "nbconvert_exporter": "python",
   "pygments_lexer": "ipython3",
   "version": "3.7.7"
  }
 },
 "nbformat": 4,
 "nbformat_minor": 4
}
