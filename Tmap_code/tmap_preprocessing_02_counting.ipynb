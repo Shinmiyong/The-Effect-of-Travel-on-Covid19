{
 "cells": [
  {
   "cell_type": "code",
   "execution_count": 104,
   "metadata": {},
   "outputs": [],
   "source": [
    "import pandas as pd"
   ]
  },
  {
   "cell_type": "code",
   "execution_count": 129,
   "metadata": {},
   "outputs": [
    {
     "name": "stderr",
     "output_type": "stream",
     "text": [
      "c:\\users\\007\\anaconda3\\envs\\machinelearning\\lib\\site-packages\\ipykernel_launcher.py:7: SettingWithCopyWarning: \n",
      "A value is trying to be set on a copy of a slice from a DataFrame\n",
      "\n",
      "See the caveats in the documentation: https://pandas.pydata.org/pandas-docs/stable/user_guide/indexing.html#returning-a-view-versus-a-copy\n",
      "  import sys\n"
     ]
    }
   ],
   "source": [
    "df = pd.read_csv('./prep_tmap19/prep_tmap_19_1_final.csv', index_col=0)\n",
    "df2 = df[['지역(시도)', '지역(시군구)']]\n",
    "df2['지역 시군구'] = 1\n",
    "\n",
    "# 지역과 시군구 컬럼을 합쳐서 '지역 시군구'라는 컬럼 작성\n",
    "for i in range(0, len(df2)):\n",
    "    df2['지역 시군구'][i] = df2['지역(시도)'][i] +' '+ df2['지역(시군구)'][i]\n",
    "    \n",
    "df2['여행 횟수'] = 1\n",
    "df3 = df2[['여행 횟수', '지역 시군구']]\n",
    "grouped = df3.groupby('지역 시군구')\n",
    "# 지역 시군구로의 여행횟수 count\n",
    "df4 = pd.DataFrame(grouped.count())\n",
    "# 정렬\n",
    "df4.sort_values(by=['여행 횟수'], axis=0, ascending=False, inplace= True)\n",
    "# 상위 20개 추출\n",
    "df5 = df4[0:20]\n",
    "\n",
    "df5.to_csv('./tmap_prep_for_vis/tmap_19_1_monthly_count_top20.csv')"
   ]
  },
  {
   "cell_type": "code",
   "execution_count": null,
   "metadata": {},
   "outputs": [],
   "source": []
  },
  {
   "cell_type": "markdown",
   "metadata": {},
   "source": [
    "# Tmap 월별 top5"
   ]
  },
  {
   "cell_type": "code",
   "execution_count": 1,
   "metadata": {},
   "outputs": [],
   "source": [
    "import pandas as pd"
   ]
  },
  {
   "cell_type": "code",
   "execution_count": 17,
   "metadata": {},
   "outputs": [],
   "source": [
    "df_2019 = pd.read_csv('./tmap_prep_for_vis/final_tmap_19_8.csv', index_col=0)\n",
    "df_2020 = pd.read_csv('./tmap_prep_for_vis/final_tmap_20_8.csv', index_col=0)"
   ]
  },
  {
   "cell_type": "code",
   "execution_count": 18,
   "metadata": {},
   "outputs": [
    {
     "data": {
      "text/html": [
       "<div>\n",
       "<style scoped>\n",
       "    .dataframe tbody tr th:only-of-type {\n",
       "        vertical-align: middle;\n",
       "    }\n",
       "\n",
       "    .dataframe tbody tr th {\n",
       "        vertical-align: top;\n",
       "    }\n",
       "\n",
       "    .dataframe thead th {\n",
       "        text-align: right;\n",
       "    }\n",
       "</style>\n",
       "<table border=\"1\" class=\"dataframe\">\n",
       "  <thead>\n",
       "    <tr style=\"text-align: right;\">\n",
       "      <th></th>\n",
       "      <th>여행 횟수</th>\n",
       "    </tr>\n",
       "    <tr>\n",
       "      <th>지역 시군구</th>\n",
       "      <th></th>\n",
       "    </tr>\n",
       "  </thead>\n",
       "  <tbody>\n",
       "    <tr>\n",
       "      <th>강원 정선군</th>\n",
       "      <td>404</td>\n",
       "    </tr>\n",
       "    <tr>\n",
       "      <th>강원 고성군</th>\n",
       "      <td>378</td>\n",
       "    </tr>\n",
       "    <tr>\n",
       "      <th>강원 홍천군</th>\n",
       "      <td>370</td>\n",
       "    </tr>\n",
       "    <tr>\n",
       "      <th>강원 삼척시</th>\n",
       "      <td>355</td>\n",
       "    </tr>\n",
       "    <tr>\n",
       "      <th>경기 포천시</th>\n",
       "      <td>348</td>\n",
       "    </tr>\n",
       "  </tbody>\n",
       "</table>\n",
       "</div>"
      ],
      "text/plain": [
       "        여행 횟수\n",
       "지역 시군구       \n",
       "강원 정선군    404\n",
       "강원 고성군    378\n",
       "강원 홍천군    370\n",
       "강원 삼척시    355\n",
       "경기 포천시    348"
      ]
     },
     "execution_count": 18,
     "metadata": {},
     "output_type": "execute_result"
    }
   ],
   "source": [
    "df2_2019 = df_2019[0:5]\n",
    "df2_2019.head()"
   ]
  },
  {
   "cell_type": "code",
   "execution_count": 19,
   "metadata": {},
   "outputs": [
    {
     "data": {
      "text/html": [
       "<div>\n",
       "<style scoped>\n",
       "    .dataframe tbody tr th:only-of-type {\n",
       "        vertical-align: middle;\n",
       "    }\n",
       "\n",
       "    .dataframe tbody tr th {\n",
       "        vertical-align: top;\n",
       "    }\n",
       "\n",
       "    .dataframe thead th {\n",
       "        text-align: right;\n",
       "    }\n",
       "</style>\n",
       "<table border=\"1\" class=\"dataframe\">\n",
       "  <thead>\n",
       "    <tr style=\"text-align: right;\">\n",
       "      <th></th>\n",
       "      <th>여행 횟수</th>\n",
       "    </tr>\n",
       "    <tr>\n",
       "      <th>지역 시군구</th>\n",
       "      <th></th>\n",
       "    </tr>\n",
       "  </thead>\n",
       "  <tbody>\n",
       "    <tr>\n",
       "      <th>강원 고성군</th>\n",
       "      <td>435</td>\n",
       "    </tr>\n",
       "    <tr>\n",
       "      <th>강원 정선군</th>\n",
       "      <td>416</td>\n",
       "    </tr>\n",
       "    <tr>\n",
       "      <th>제주 서귀포시</th>\n",
       "      <td>386</td>\n",
       "    </tr>\n",
       "    <tr>\n",
       "      <th>강원 평창군</th>\n",
       "      <td>384</td>\n",
       "    </tr>\n",
       "    <tr>\n",
       "      <th>강원 홍천군</th>\n",
       "      <td>381</td>\n",
       "    </tr>\n",
       "  </tbody>\n",
       "</table>\n",
       "</div>"
      ],
      "text/plain": [
       "         여행 횟수\n",
       "지역 시군구        \n",
       "강원 고성군     435\n",
       "강원 정선군     416\n",
       "제주 서귀포시    386\n",
       "강원 평창군     384\n",
       "강원 홍천군     381"
      ]
     },
     "execution_count": 19,
     "metadata": {},
     "output_type": "execute_result"
    }
   ],
   "source": [
    "df2_2020 = df_2020[0:5]\n",
    "df2_2020.head()"
   ]
  },
  {
   "cell_type": "code",
   "execution_count": 20,
   "metadata": {},
   "outputs": [
    {
     "data": {
      "text/html": [
       "<div>\n",
       "<style scoped>\n",
       "    .dataframe tbody tr th:only-of-type {\n",
       "        vertical-align: middle;\n",
       "    }\n",
       "\n",
       "    .dataframe tbody tr th {\n",
       "        vertical-align: top;\n",
       "    }\n",
       "\n",
       "    .dataframe thead th {\n",
       "        text-align: right;\n",
       "    }\n",
       "</style>\n",
       "<table border=\"1\" class=\"dataframe\">\n",
       "  <thead>\n",
       "    <tr style=\"text-align: right;\">\n",
       "      <th></th>\n",
       "      <th>여행 횟수</th>\n",
       "    </tr>\n",
       "    <tr>\n",
       "      <th>지역 시군구</th>\n",
       "      <th></th>\n",
       "    </tr>\n",
       "  </thead>\n",
       "  <tbody>\n",
       "    <tr>\n",
       "      <th>전북 무주군</th>\n",
       "      <td>342</td>\n",
       "    </tr>\n",
       "    <tr>\n",
       "      <th>충북 충주시</th>\n",
       "      <td>340</td>\n",
       "    </tr>\n",
       "    <tr>\n",
       "      <th>경남 합천군</th>\n",
       "      <td>329</td>\n",
       "    </tr>\n",
       "    <tr>\n",
       "      <th>경기 여주시</th>\n",
       "      <td>328</td>\n",
       "    </tr>\n",
       "    <tr>\n",
       "      <th>강원 평창군</th>\n",
       "      <td>324</td>\n",
       "    </tr>\n",
       "  </tbody>\n",
       "</table>\n",
       "</div>"
      ],
      "text/plain": [
       "        여행 횟수\n",
       "지역 시군구       \n",
       "전북 무주군    342\n",
       "충북 충주시    340\n",
       "경남 합천군    329\n",
       "경기 여주시    328\n",
       "강원 평창군    324"
      ]
     },
     "execution_count": 20,
     "metadata": {},
     "output_type": "execute_result"
    }
   ],
   "source": [
    "df3_2019 = df_2019[5:10]\n",
    "df3_2019.head()"
   ]
  },
  {
   "cell_type": "code",
   "execution_count": 21,
   "metadata": {},
   "outputs": [
    {
     "data": {
      "text/html": [
       "<div>\n",
       "<style scoped>\n",
       "    .dataframe tbody tr th:only-of-type {\n",
       "        vertical-align: middle;\n",
       "    }\n",
       "\n",
       "    .dataframe tbody tr th {\n",
       "        vertical-align: top;\n",
       "    }\n",
       "\n",
       "    .dataframe thead th {\n",
       "        text-align: right;\n",
       "    }\n",
       "</style>\n",
       "<table border=\"1\" class=\"dataframe\">\n",
       "  <thead>\n",
       "    <tr style=\"text-align: right;\">\n",
       "      <th></th>\n",
       "      <th>여행 횟수</th>\n",
       "    </tr>\n",
       "    <tr>\n",
       "      <th>지역 시군구</th>\n",
       "      <th></th>\n",
       "    </tr>\n",
       "  </thead>\n",
       "  <tbody>\n",
       "    <tr>\n",
       "      <th>제주 제주시</th>\n",
       "      <td>376</td>\n",
       "    </tr>\n",
       "    <tr>\n",
       "      <th>강원 삼척시</th>\n",
       "      <td>357</td>\n",
       "    </tr>\n",
       "    <tr>\n",
       "      <th>전북 무주군</th>\n",
       "      <td>349</td>\n",
       "    </tr>\n",
       "    <tr>\n",
       "      <th>경기 포천시</th>\n",
       "      <td>340</td>\n",
       "    </tr>\n",
       "    <tr>\n",
       "      <th>강원 양양군</th>\n",
       "      <td>330</td>\n",
       "    </tr>\n",
       "  </tbody>\n",
       "</table>\n",
       "</div>"
      ],
      "text/plain": [
       "        여행 횟수\n",
       "지역 시군구       \n",
       "제주 제주시    376\n",
       "강원 삼척시    357\n",
       "전북 무주군    349\n",
       "경기 포천시    340\n",
       "강원 양양군    330"
      ]
     },
     "execution_count": 21,
     "metadata": {},
     "output_type": "execute_result"
    }
   ],
   "source": [
    "df3_2020 = df_2020[5:10]\n",
    "df3_2020.head()"
   ]
  },
  {
   "cell_type": "code",
   "execution_count": null,
   "metadata": {},
   "outputs": [],
   "source": []
  },
  {
   "cell_type": "code",
   "execution_count": 73,
   "metadata": {},
   "outputs": [],
   "source": [
    "df2.to_csv('./tmap_monthly_top5/tmap_monthly_top5_19_8.csv')"
   ]
  },
  {
   "cell_type": "code",
   "execution_count": null,
   "metadata": {},
   "outputs": [],
   "source": []
  },
  {
   "cell_type": "code",
   "execution_count": 36,
   "metadata": {},
   "outputs": [],
   "source": [
    "import pandas as pd"
   ]
  },
  {
   "cell_type": "code",
   "execution_count": 37,
   "metadata": {},
   "outputs": [],
   "source": [
    "df_2019 = pd.read_csv('./tmap_prep_for_vis/prep_tmap_19_5.csv', index_col=0)\n",
    "df_2020 = pd.read_csv('./tmap_prep_for_vis/prep_tmap_20_5.csv', index_col=0)"
   ]
  },
  {
   "cell_type": "code",
   "execution_count": 38,
   "metadata": {},
   "outputs": [],
   "source": [
    "test_2019 = df_2019.rename(columns={'여행 횟수': '2019 여행 횟수'})\n",
    "test_2020 = df_2020.rename(columns={'여행 횟수': '2020 여행 횟수'})"
   ]
  },
  {
   "cell_type": "code",
   "execution_count": 39,
   "metadata": {},
   "outputs": [],
   "source": [
    "test_total = pd.concat([test_2019, test_2020], axis= 'columns')"
   ]
  },
  {
   "cell_type": "code",
   "execution_count": 40,
   "metadata": {},
   "outputs": [],
   "source": [
    "test_total['증감'] = 0"
   ]
  },
  {
   "cell_type": "code",
   "execution_count": 41,
   "metadata": {},
   "outputs": [],
   "source": [
    "test_total = test_total.fillna(0)"
   ]
  },
  {
   "cell_type": "code",
   "execution_count": 42,
   "metadata": {},
   "outputs": [
    {
     "name": "stderr",
     "output_type": "stream",
     "text": [
      "c:\\users\\007\\anaconda3\\envs\\machinelearning\\lib\\site-packages\\ipykernel_launcher.py:2: SettingWithCopyWarning: \n",
      "A value is trying to be set on a copy of a slice from a DataFrame\n",
      "\n",
      "See the caveats in the documentation: https://pandas.pydata.org/pandas-docs/stable/user_guide/indexing.html#returning-a-view-versus-a-copy\n",
      "  \n"
     ]
    }
   ],
   "source": [
    "for i in range(0, len(test_total)):\n",
    "    test_total['증감'][i] = test_total['2020 여행 횟수'][i] - test_total['2019 여행 횟수'][i]"
   ]
  },
  {
   "cell_type": "code",
   "execution_count": 43,
   "metadata": {},
   "outputs": [],
   "source": [
    "test_total.sort_values('증감', inplace= True)"
   ]
  },
  {
   "cell_type": "code",
   "execution_count": 47,
   "metadata": {},
   "outputs": [
    {
     "data": {
      "text/html": [
       "<div>\n",
       "<style scoped>\n",
       "    .dataframe tbody tr th:only-of-type {\n",
       "        vertical-align: middle;\n",
       "    }\n",
       "\n",
       "    .dataframe tbody tr th {\n",
       "        vertical-align: top;\n",
       "    }\n",
       "\n",
       "    .dataframe thead th {\n",
       "        text-align: right;\n",
       "    }\n",
       "</style>\n",
       "<table border=\"1\" class=\"dataframe\">\n",
       "  <thead>\n",
       "    <tr style=\"text-align: right;\">\n",
       "      <th></th>\n",
       "      <th>2019 여행 횟수</th>\n",
       "      <th>2020 여행 횟수</th>\n",
       "      <th>증감</th>\n",
       "    </tr>\n",
       "  </thead>\n",
       "  <tbody>\n",
       "    <tr>\n",
       "      <th>전북 무주군</th>\n",
       "      <td>319.0</td>\n",
       "      <td>0.0</td>\n",
       "      <td>-319</td>\n",
       "    </tr>\n",
       "    <tr>\n",
       "      <th>충남 태안군</th>\n",
       "      <td>305.0</td>\n",
       "      <td>0.0</td>\n",
       "      <td>-305</td>\n",
       "    </tr>\n",
       "    <tr>\n",
       "      <th>강원 삼척시</th>\n",
       "      <td>302.0</td>\n",
       "      <td>321.0</td>\n",
       "      <td>19</td>\n",
       "    </tr>\n",
       "    <tr>\n",
       "      <th>강원 정선군</th>\n",
       "      <td>340.0</td>\n",
       "      <td>363.0</td>\n",
       "      <td>23</td>\n",
       "    </tr>\n",
       "    <tr>\n",
       "      <th>충북 충주시</th>\n",
       "      <td>292.0</td>\n",
       "      <td>317.0</td>\n",
       "      <td>25</td>\n",
       "    </tr>\n",
       "    <tr>\n",
       "      <th>경기 포천시</th>\n",
       "      <td>309.0</td>\n",
       "      <td>340.0</td>\n",
       "      <td>31</td>\n",
       "    </tr>\n",
       "    <tr>\n",
       "      <th>경기 여주시</th>\n",
       "      <td>312.0</td>\n",
       "      <td>353.0</td>\n",
       "      <td>41</td>\n",
       "    </tr>\n",
       "    <tr>\n",
       "      <th>강원 홍천군</th>\n",
       "      <td>313.0</td>\n",
       "      <td>358.0</td>\n",
       "      <td>45</td>\n",
       "    </tr>\n",
       "    <tr>\n",
       "      <th>강원 고성군</th>\n",
       "      <td>321.0</td>\n",
       "      <td>368.0</td>\n",
       "      <td>47</td>\n",
       "    </tr>\n",
       "    <tr>\n",
       "      <th>강원 평창군</th>\n",
       "      <td>301.0</td>\n",
       "      <td>372.0</td>\n",
       "      <td>71</td>\n",
       "    </tr>\n",
       "    <tr>\n",
       "      <th>경기 가평군</th>\n",
       "      <td>0.0</td>\n",
       "      <td>340.0</td>\n",
       "      <td>340</td>\n",
       "    </tr>\n",
       "    <tr>\n",
       "      <th>제주 서귀포시</th>\n",
       "      <td>0.0</td>\n",
       "      <td>352.0</td>\n",
       "      <td>352</td>\n",
       "    </tr>\n",
       "  </tbody>\n",
       "</table>\n",
       "</div>"
      ],
      "text/plain": [
       "         2019 여행 횟수  2020 여행 횟수   증감\n",
       "전북 무주군        319.0         0.0 -319\n",
       "충남 태안군        305.0         0.0 -305\n",
       "강원 삼척시        302.0       321.0   19\n",
       "강원 정선군        340.0       363.0   23\n",
       "충북 충주시        292.0       317.0   25\n",
       "경기 포천시        309.0       340.0   31\n",
       "경기 여주시        312.0       353.0   41\n",
       "강원 홍천군        313.0       358.0   45\n",
       "강원 고성군        321.0       368.0   47\n",
       "강원 평창군        301.0       372.0   71\n",
       "경기 가평군          0.0       340.0  340\n",
       "제주 서귀포시         0.0       352.0  352"
      ]
     },
     "execution_count": 47,
     "metadata": {},
     "output_type": "execute_result"
    }
   ],
   "source": [
    "test_total"
   ]
  }
 ],
 "metadata": {
  "kernelspec": {
   "display_name": "Python 3",
   "language": "python",
   "name": "python3"
  },
  "language_info": {
   "codemirror_mode": {
    "name": "ipython",
    "version": 3
   },
   "file_extension": ".py",
   "mimetype": "text/x-python",
   "name": "python",
   "nbconvert_exporter": "python",
   "pygments_lexer": "ipython3",
   "version": "3.7.7"
  }
 },
 "nbformat": 4,
 "nbformat_minor": 4
}
