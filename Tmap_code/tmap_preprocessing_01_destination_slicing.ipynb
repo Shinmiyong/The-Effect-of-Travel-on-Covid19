{
 "cells": [
  {
   "cell_type": "code",
   "execution_count": 1,
   "metadata": {},
   "outputs": [],
   "source": [
    "import pandas as pd\n",
    "import datetime"
   ]
  },
  {
   "cell_type": "code",
   "execution_count": 3,
   "metadata": {},
   "outputs": [
    {
     "data": {
      "text/html": [
       "<div>\n",
       "<style scoped>\n",
       "    .dataframe tbody tr th:only-of-type {\n",
       "        vertical-align: middle;\n",
       "    }\n",
       "\n",
       "    .dataframe tbody tr th {\n",
       "        vertical-align: top;\n",
       "    }\n",
       "\n",
       "    .dataframe thead th {\n",
       "        text-align: right;\n",
       "    }\n",
       "</style>\n",
       "<table border=\"1\" class=\"dataframe\">\n",
       "  <thead>\n",
       "    <tr style=\"text-align: right;\">\n",
       "      <th></th>\n",
       "      <th>일자</th>\n",
       "      <th>지역(시도)</th>\n",
       "      <th>지역(시군구)</th>\n",
       "      <th>검색지명</th>\n",
       "      <th>검색지유형1</th>\n",
       "      <th>검색지유형2</th>\n",
       "      <th>검색지유형3</th>\n",
       "      <th>검색지랭킹(시군구내)</th>\n",
       "    </tr>\n",
       "  </thead>\n",
       "  <tbody>\n",
       "    <tr>\n",
       "      <th>0</th>\n",
       "      <td>20190801</td>\n",
       "      <td>경기</td>\n",
       "      <td>고양시 일산서구</td>\n",
       "      <td>킨텍스제1전시장</td>\n",
       "      <td>생활편의</td>\n",
       "      <td>문화생활시설</td>\n",
       "      <td>전시장</td>\n",
       "      <td>1</td>\n",
       "    </tr>\n",
       "    <tr>\n",
       "      <th>1</th>\n",
       "      <td>20190801</td>\n",
       "      <td>경기</td>\n",
       "      <td>고양시 일산서구</td>\n",
       "      <td>킨텍스제2전시장</td>\n",
       "      <td>생활편의</td>\n",
       "      <td>문화생활시설</td>\n",
       "      <td>전시장</td>\n",
       "      <td>2</td>\n",
       "    </tr>\n",
       "    <tr>\n",
       "      <th>2</th>\n",
       "      <td>20190801</td>\n",
       "      <td>경기</td>\n",
       "      <td>고양시 일산서구</td>\n",
       "      <td>원마운트</td>\n",
       "      <td>쇼핑</td>\n",
       "      <td>대형유통점</td>\n",
       "      <td>쇼핑센터</td>\n",
       "      <td>3</td>\n",
       "    </tr>\n",
       "    <tr>\n",
       "      <th>3</th>\n",
       "      <td>20190801</td>\n",
       "      <td>경기</td>\n",
       "      <td>고양시 일산서구</td>\n",
       "      <td>아쿠아플라넷일산점</td>\n",
       "      <td>여행/레저</td>\n",
       "      <td>관광명소</td>\n",
       "      <td>수족관</td>\n",
       "      <td>4</td>\n",
       "    </tr>\n",
       "    <tr>\n",
       "      <th>4</th>\n",
       "      <td>20190801</td>\n",
       "      <td>경기</td>\n",
       "      <td>고양시 일산서구</td>\n",
       "      <td>이마트트레이더스킨텍스점</td>\n",
       "      <td>쇼핑</td>\n",
       "      <td>대형유통점</td>\n",
       "      <td>할인점</td>\n",
       "      <td>5</td>\n",
       "    </tr>\n",
       "  </tbody>\n",
       "</table>\n",
       "</div>"
      ],
      "text/plain": [
       "         일자 지역(시도)   지역(시군구)          검색지명 검색지유형1  검색지유형2 검색지유형3  검색지랭킹(시군구내)\n",
       "0  20190801     경기  고양시 일산서구      킨텍스제1전시장   생활편의  문화생활시설    전시장            1\n",
       "1  20190801     경기  고양시 일산서구      킨텍스제2전시장   생활편의  문화생활시설    전시장            2\n",
       "2  20190801     경기  고양시 일산서구          원마운트     쇼핑   대형유통점   쇼핑센터            3\n",
       "3  20190801     경기  고양시 일산서구     아쿠아플라넷일산점  여행/레저    관광명소    수족관            4\n",
       "4  20190801     경기  고양시 일산서구  이마트트레이더스킨텍스점     쇼핑   대형유통점    할인점            5"
      ]
     },
     "execution_count": 3,
     "metadata": {},
     "output_type": "execute_result"
    }
   ],
   "source": [
    "df = pd.read_csv('./tmap19/TMAP_USE_01MONTH.csv', index_col = 0)\n",
    "df.reset_index(inplace=True)"
   ]
  },
  {
   "cell_type": "code",
   "execution_count": 4,
   "metadata": {},
   "outputs": [],
   "source": [
    "# 검색지유형 = 여행/레저 출력\n",
    "df2 = pd.DataFrame()\n",
    "for i in range(0, len(df)):\n",
    "    if df.iloc[i]['검색지유형1']=='여행/레저':\n",
    "        data = pd.DataFrame(df.iloc[i]).T\n",
    "        df2 = pd.concat([df2, data], axis= 'rows', ignore_index= True)"
   ]
  },
  {
   "cell_type": "code",
   "execution_count": 68,
   "metadata": {},
   "outputs": [
    {
     "data": {
      "text/html": [
       "<div>\n",
       "<style scoped>\n",
       "    .dataframe tbody tr th:only-of-type {\n",
       "        vertical-align: middle;\n",
       "    }\n",
       "\n",
       "    .dataframe tbody tr th {\n",
       "        vertical-align: top;\n",
       "    }\n",
       "\n",
       "    .dataframe thead th {\n",
       "        text-align: right;\n",
       "    }\n",
       "</style>\n",
       "<table border=\"1\" class=\"dataframe\">\n",
       "  <thead>\n",
       "    <tr style=\"text-align: right;\">\n",
       "      <th></th>\n",
       "      <th>일자</th>\n",
       "      <th>지역(시도)</th>\n",
       "      <th>지역(시군구)</th>\n",
       "    </tr>\n",
       "  </thead>\n",
       "  <tbody>\n",
       "    <tr>\n",
       "      <th>0</th>\n",
       "      <td>20190801</td>\n",
       "      <td>경기</td>\n",
       "      <td>고양시 일산서구</td>\n",
       "    </tr>\n",
       "    <tr>\n",
       "      <th>1</th>\n",
       "      <td>20190801</td>\n",
       "      <td>경기</td>\n",
       "      <td>고양시 일산서구</td>\n",
       "    </tr>\n",
       "    <tr>\n",
       "      <th>2</th>\n",
       "      <td>20190801</td>\n",
       "      <td>경기</td>\n",
       "      <td>고양시 일산서구</td>\n",
       "    </tr>\n",
       "    <tr>\n",
       "      <th>3</th>\n",
       "      <td>20190801</td>\n",
       "      <td>경북</td>\n",
       "      <td>경산시</td>\n",
       "    </tr>\n",
       "    <tr>\n",
       "      <th>4</th>\n",
       "      <td>20190801</td>\n",
       "      <td>경북</td>\n",
       "      <td>경산시</td>\n",
       "    </tr>\n",
       "  </tbody>\n",
       "</table>\n",
       "</div>"
      ],
      "text/plain": [
       "         일자 지역(시도)   지역(시군구)\n",
       "0  20190801     경기  고양시 일산서구\n",
       "1  20190801     경기  고양시 일산서구\n",
       "2  20190801     경기  고양시 일산서구\n",
       "3  20190801     경북       경산시\n",
       "4  20190801     경북       경산시"
      ]
     },
     "execution_count": 68,
     "metadata": {},
     "output_type": "execute_result"
    }
   ],
   "source": [
    "# 날짜, 지역, 시군구 추출\n",
    "df3 = df2[['일자', '지역(시도)', '지역(시군구)']]"
   ]
  },
  {
   "cell_type": "code",
   "execution_count": 96,
   "metadata": {},
   "outputs": [],
   "source": [
    "df3.to_csv('./prep_tmap19/prep_tmap_19_1.csv')"
   ]
  },
  {
   "cell_type": "code",
   "execution_count": null,
   "metadata": {},
   "outputs": [],
   "source": []
  },
  {
   "cell_type": "code",
   "execution_count": null,
   "metadata": {},
   "outputs": [],
   "source": []
  },
  {
   "cell_type": "code",
   "execution_count": null,
   "metadata": {},
   "outputs": [],
   "source": []
  },
  {
   "cell_type": "code",
   "execution_count": null,
   "metadata": {},
   "outputs": [],
   "source": []
  },
  {
   "cell_type": "code",
   "execution_count": null,
   "metadata": {},
   "outputs": [],
   "source": []
  },
  {
   "cell_type": "code",
   "execution_count": 229,
   "metadata": {},
   "outputs": [],
   "source": [
    "# 여기서 한 번 끊었다 가기\n",
    "df3 = pd.read_csv('./prep_tmap20/prep_tmap_20_8.csv', index_col=0)"
   ]
  },
  {
   "cell_type": "code",
   "execution_count": 222,
   "metadata": {},
   "outputs": [],
   "source": [
    "# 일자를 datetime으로 변경\n",
    "df3['날짜'] = pd.to_datetime(df3['일자'].astype(str), format= '%Y%m%d')"
   ]
  },
  {
   "cell_type": "code",
   "execution_count": 223,
   "metadata": {},
   "outputs": [],
   "source": [
    "# 요일 추출\n",
    "df3['요일'] = df3['날짜'].dt.day_name()"
   ]
  },
  {
   "cell_type": "code",
   "execution_count": 224,
   "metadata": {},
   "outputs": [],
   "source": [
    "# 월, 금, 토, 일 추출\n",
    "df4 = pd.DataFrame()\n",
    "for i in range(0,len(df3)):\n",
    "    if df3.iloc[i]['요일'] == 'Monday' or df3.iloc[i]['요일'] == 'Friday' or df3.iloc[i]['요일'] ==  'Saturday' or df3.iloc[i]['요일'] ==  'Sunday':\n",
    "        data = pd.DataFrame(df3.iloc[i]).T\n",
    "        df4 = pd.concat([df4, data], axis= 'rows', ignore_index= True)"
   ]
  },
  {
   "cell_type": "code",
   "execution_count": 225,
   "metadata": {},
   "outputs": [
    {
     "name": "stderr",
     "output_type": "stream",
     "text": [
      "c:\\users\\007\\anaconda3\\envs\\machinelearning\\lib\\site-packages\\pandas\\core\\frame.py:4298: SettingWithCopyWarning: \n",
      "A value is trying to be set on a copy of a slice from a DataFrame\n",
      "\n",
      "See the caveats in the documentation: https://pandas.pydata.org/pandas-docs/stable/user_guide/indexing.html#returning-a-view-versus-a-copy\n",
      "  errors=errors,\n"
     ]
    }
   ],
   "source": [
    "# 날짜, 지역(시도), 지역(시군구) 출력\n",
    "df5 = df4[['날짜','지역(시도)','지역(시군구)']]\n",
    "df5.rename(columns = {'날짜' : '일자'}, inplace = True)"
   ]
  },
  {
   "cell_type": "code",
   "execution_count": 226,
   "metadata": {},
   "outputs": [
    {
     "data": {
      "text/html": [
       "<div>\n",
       "<style scoped>\n",
       "    .dataframe tbody tr th:only-of-type {\n",
       "        vertical-align: middle;\n",
       "    }\n",
       "\n",
       "    .dataframe tbody tr th {\n",
       "        vertical-align: top;\n",
       "    }\n",
       "\n",
       "    .dataframe thead th {\n",
       "        text-align: right;\n",
       "    }\n",
       "</style>\n",
       "<table border=\"1\" class=\"dataframe\">\n",
       "  <thead>\n",
       "    <tr style=\"text-align: right;\">\n",
       "      <th></th>\n",
       "      <th>일자</th>\n",
       "      <th>지역(시도)</th>\n",
       "      <th>지역(시군구)</th>\n",
       "    </tr>\n",
       "  </thead>\n",
       "  <tbody>\n",
       "    <tr>\n",
       "      <th>32399</th>\n",
       "      <td>2020-08-09</td>\n",
       "      <td>충북</td>\n",
       "      <td>증평군</td>\n",
       "    </tr>\n",
       "    <tr>\n",
       "      <th>32400</th>\n",
       "      <td>2020-08-09</td>\n",
       "      <td>충북</td>\n",
       "      <td>증평군</td>\n",
       "    </tr>\n",
       "    <tr>\n",
       "      <th>32401</th>\n",
       "      <td>2020-08-09</td>\n",
       "      <td>충북</td>\n",
       "      <td>증평군</td>\n",
       "    </tr>\n",
       "    <tr>\n",
       "      <th>32402</th>\n",
       "      <td>2020-08-09</td>\n",
       "      <td>충북</td>\n",
       "      <td>증평군</td>\n",
       "    </tr>\n",
       "    <tr>\n",
       "      <th>32403</th>\n",
       "      <td>2020-08-09</td>\n",
       "      <td>충북</td>\n",
       "      <td>증평군</td>\n",
       "    </tr>\n",
       "  </tbody>\n",
       "</table>\n",
       "</div>"
      ],
      "text/plain": [
       "              일자 지역(시도) 지역(시군구)\n",
       "32399 2020-08-09     충북     증평군\n",
       "32400 2020-08-09     충북     증평군\n",
       "32401 2020-08-09     충북     증평군\n",
       "32402 2020-08-09     충북     증평군\n",
       "32403 2020-08-09     충북     증평군"
      ]
     },
     "execution_count": 226,
     "metadata": {},
     "output_type": "execute_result"
    }
   ],
   "source": [
    "df5.tail()"
   ]
  },
  {
   "cell_type": "code",
   "execution_count": 227,
   "metadata": {},
   "outputs": [
    {
     "name": "stdout",
     "output_type": "stream",
     "text": [
      "<class 'pandas.core.frame.DataFrame'>\n",
      "RangeIndex: 32404 entries, 0 to 32403\n",
      "Data columns (total 3 columns):\n",
      " #   Column   Non-Null Count  Dtype         \n",
      "---  ------   --------------  -----         \n",
      " 0   일자       32404 non-null  datetime64[ns]\n",
      " 1   지역(시도)   32404 non-null  object        \n",
      " 2   지역(시군구)  32404 non-null  object        \n",
      "dtypes: datetime64[ns](1), object(2)\n",
      "memory usage: 759.6+ KB\n"
     ]
    }
   ],
   "source": [
    "df5.info()"
   ]
  },
  {
   "cell_type": "code",
   "execution_count": 228,
   "metadata": {},
   "outputs": [],
   "source": [
    "df5.to_csv('./prep_tmap20/prep_tmap_20_8_final.csv')"
   ]
  },
  {
   "cell_type": "code",
   "execution_count": null,
   "metadata": {},
   "outputs": [],
   "source": []
  },
  {
   "cell_type": "code",
   "execution_count": null,
   "metadata": {},
   "outputs": [],
   "source": []
  },
  {
   "cell_type": "code",
   "execution_count": null,
   "metadata": {},
   "outputs": [],
   "source": []
  },
  {
   "cell_type": "code",
   "execution_count": 195,
   "metadata": {},
   "outputs": [],
   "source": [
    "# 공휴일 추가해야함\n",
    "# 지금은 datetime으로 바꾸고, (월, 금, 토, 일) 추출되어있음\n",
    "# 공휴일 확인해서 '있으면' df 만들고 concat\n",
    "# '일자'를 기준으로 sorting\n",
    "\n",
    "df = pd.read_csv('./prep_tmap20/prep_tmap_20_5.csv', index_col=0)"
   ]
  },
  {
   "cell_type": "code",
   "execution_count": 196,
   "metadata": {},
   "outputs": [],
   "source": [
    "df2 = pd.DataFrame()\n",
    "\n",
    "for i in range(0, len(df)):\n",
    "    if df.iloc[i]['일자'] == 20200505:\n",
    "        data = pd.DataFrame(df.iloc[i]).T\n",
    "        df2 = pd.concat([df2, data], axis= 'rows', ignore_index= True)"
   ]
  },
  {
   "cell_type": "code",
   "execution_count": 197,
   "metadata": {},
   "outputs": [
    {
     "name": "stdout",
     "output_type": "stream",
     "text": [
      "<class 'pandas.core.frame.DataFrame'>\n",
      "RangeIndex: 1613 entries, 0 to 1612\n",
      "Data columns (total 3 columns):\n",
      " #   Column   Non-Null Count  Dtype \n",
      "---  ------   --------------  ----- \n",
      " 0   일자       1613 non-null   object\n",
      " 1   지역(시도)   1613 non-null   object\n",
      " 2   지역(시군구)  1613 non-null   object\n",
      "dtypes: object(3)\n",
      "memory usage: 37.9+ KB\n"
     ]
    }
   ],
   "source": [
    "df2.info()"
   ]
  },
  {
   "cell_type": "code",
   "execution_count": 198,
   "metadata": {},
   "outputs": [],
   "source": [
    "# 일자를 datetime으로 변경\n",
    "df2['날짜'] = pd.to_datetime(df2['일자'].astype(str), format= '%Y%m%d')"
   ]
  },
  {
   "cell_type": "code",
   "execution_count": 199,
   "metadata": {},
   "outputs": [
    {
     "name": "stderr",
     "output_type": "stream",
     "text": [
      "c:\\users\\007\\anaconda3\\envs\\machinelearning\\lib\\site-packages\\pandas\\core\\frame.py:4298: SettingWithCopyWarning: \n",
      "A value is trying to be set on a copy of a slice from a DataFrame\n",
      "\n",
      "See the caveats in the documentation: https://pandas.pydata.org/pandas-docs/stable/user_guide/indexing.html#returning-a-view-versus-a-copy\n",
      "  errors=errors,\n"
     ]
    }
   ],
   "source": [
    "# 날짜, 지역(시도), 지역(시군구) 출력\n",
    "df3 = df2[['날짜','지역(시도)','지역(시군구)']]\n",
    "df3.rename(columns = {'날짜' : '일자'}, inplace = True)"
   ]
  },
  {
   "cell_type": "code",
   "execution_count": null,
   "metadata": {},
   "outputs": [],
   "source": []
  },
  {
   "cell_type": "code",
   "execution_count": null,
   "metadata": {},
   "outputs": [],
   "source": []
  },
  {
   "cell_type": "code",
   "execution_count": null,
   "metadata": {},
   "outputs": [],
   "source": []
  },
  {
   "cell_type": "code",
   "execution_count": 200,
   "metadata": {},
   "outputs": [],
   "source": [
    "# 저장\n",
    "df3.to_csv('./prep_tmap20/prep_tmap_20_5_holiday.csv')"
   ]
  },
  {
   "cell_type": "code",
   "execution_count": 201,
   "metadata": {},
   "outputs": [],
   "source": [
    "# 불러와서 concat\n",
    "df = pd.read_csv('./prep_tmap20/prep_tmap_20_5_final.csv', index_col = 0)\n",
    "df2 = pd.read_csv('./prep_tmap20/prep_tmap_20_5_holiday.csv', index_col = 0)\n",
    "df3 = pd.concat([df, df2], axis= 'rows', ignore_index= True)"
   ]
  },
  {
   "cell_type": "code",
   "execution_count": 202,
   "metadata": {},
   "outputs": [],
   "source": [
    "# 정렬\n",
    "df3.sort_values(by=['일자'], axis=0, inplace= True)\n",
    "df3.reset_index(drop=True, inplace= True)"
   ]
  },
  {
   "cell_type": "code",
   "execution_count": 204,
   "metadata": {},
   "outputs": [],
   "source": [
    "df3.to_csv('./prep_tmap20/prep_tmap_20_5_final_include_holiday.csv')"
   ]
  }
 ],
 "metadata": {
  "kernelspec": {
   "display_name": "Python 3",
   "language": "python",
   "name": "python3"
  },
  "language_info": {
   "codemirror_mode": {
    "name": "ipython",
    "version": 3
   },
   "file_extension": ".py",
   "mimetype": "text/x-python",
   "name": "python",
   "nbconvert_exporter": "python",
   "pygments_lexer": "ipython3",
   "version": "3.7.7"
  }
 },
 "nbformat": 4,
 "nbformat_minor": 4
}
