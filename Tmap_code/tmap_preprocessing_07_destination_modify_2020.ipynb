{
 "cells": [
  {
   "cell_type": "markdown",
   "metadata": {},
   "source": [
    "# 20년도 OO도 OO시 OO구 조정"
   ]
  },
  {
   "cell_type": "code",
   "execution_count": 8,
   "metadata": {},
   "outputs": [],
   "source": [
    "import pandas as pd\n",
    "import numpy as np"
   ]
  },
  {
   "cell_type": "code",
   "execution_count": 9,
   "metadata": {},
   "outputs": [],
   "source": [
    "df_2020 = pd.read_csv('./tmap_prep_ver2/prep_tmap_month_20_total.csv', index_col=0)"
   ]
  },
  {
   "cell_type": "code",
   "execution_count": 10,
   "metadata": {},
   "outputs": [],
   "source": [
    "df_2020.reset_index(inplace= True)"
   ]
  },
  {
   "cell_type": "code",
   "execution_count": 11,
   "metadata": {},
   "outputs": [],
   "source": [
    "# OO도 OO시 OO구 출력\n",
    "a_list = []\n",
    "for i in range(0, len(df_2020)):\n",
    "    if len(df_2020['지역 시군구'][i].split(' ')) == 3:\n",
    "        data = df_2020.iloc[i]\n",
    "        a_list.append(data)\n",
    "test = pd.DataFrame(a_list)"
   ]
  },
  {
   "cell_type": "code",
   "execution_count": 12,
   "metadata": {},
   "outputs": [],
   "source": [
    "# 정렬\n",
    "test.sort_values(['지역 시군구', '여행월'], inplace= True)\n",
    "test.reset_index(drop= True, inplace= True)"
   ]
  },
  {
   "cell_type": "code",
   "execution_count": 13,
   "metadata": {},
   "outputs": [
    {
     "data": {
      "text/plain": [
       "array(['경기 고양시 덕양구', '경기 고양시 일산동구', '경기 고양시 일산서구', '경기 성남시 분당구',\n",
       "       '경기 성남시 수정구', '경기 성남시 중원구', '경기 수원시 권선구', '경기 수원시 영통구',\n",
       "       '경기 수원시 장안구', '경기 수원시 팔달구', '경기 안산시 단원구', '경기 안산시 상록구',\n",
       "       '경기 안양시 동안구', '경기 안양시 만안구', '경기 용인시 기흥구', '경기 용인시 수지구',\n",
       "       '경기 용인시 처인구', '경남 창원시 마산합포구', '경남 창원시 마산회원구', '경남 창원시 성산구',\n",
       "       '경남 창원시 의창구', '경남 창원시 진해구', '경북 포항시 남구', '경북 포항시 북구', '전북 전주시 덕진구',\n",
       "       '전북 전주시 완산구', '충남 천안시 동남구', '충남 천안시 서북구', '충북 청주시 상당구',\n",
       "       '충북 청주시 서원구', '충북 청주시 청원구', '충북 청주시 흥덕구'], dtype=object)"
      ]
     },
     "execution_count": 13,
     "metadata": {},
     "output_type": "execute_result"
    }
   ],
   "source": [
    "test['지역 시군구'].unique()"
   ]
  },
  {
   "cell_type": "code",
   "execution_count": null,
   "metadata": {},
   "outputs": [],
   "source": []
  },
  {
   "cell_type": "code",
   "execution_count": 14,
   "metadata": {},
   "outputs": [],
   "source": [
    "month = ['1월', '2월', '3월', '4월', '5월', '6월', '7월', '8월']"
   ]
  },
  {
   "cell_type": "code",
   "execution_count": 15,
   "metadata": {},
   "outputs": [],
   "source": [
    "# 성남시\n",
    "b_list = []\n",
    "for i in range(0, len(test)):\n",
    "    if test['지역 시군구'][i].split()[1] == '성남시':\n",
    "        data = test.iloc[i]\n",
    "        b_list.append(data)\n",
    "test2 = pd.DataFrame(b_list)\n",
    "\n",
    "test2.sort_values(['여행월'], inplace= True)\n",
    "test2.reset_index(drop= True, inplace= True)\n",
    "count = test2.groupby(['여행월'])['여행 횟수'].sum()\n",
    "test3 = pd.DataFrame({'지역 시군구': '경기 성남시', '여행 횟수': count, '여행월':month})\n",
    "test3.reset_index(drop= True, inplace= True)\n",
    "경기성남시 = test3"
   ]
  },
  {
   "cell_type": "code",
   "execution_count": null,
   "metadata": {},
   "outputs": [],
   "source": []
  },
  {
   "cell_type": "code",
   "execution_count": 16,
   "metadata": {},
   "outputs": [],
   "source": [
    "# 고양시\n",
    "b_list = []\n",
    "for i in range(0, len(test)):\n",
    "    if test['지역 시군구'][i].split()[1] == '고양시':\n",
    "        data = test.iloc[i]\n",
    "        b_list.append(data)\n",
    "test2 = pd.DataFrame(b_list)\n",
    "\n",
    "test2.sort_values(['여행월'], inplace= True)\n",
    "test2.reset_index(drop= True, inplace= True)\n",
    "count = test2.groupby(['여행월'])['여행 횟수'].sum()\n",
    "test3 = pd.DataFrame({'지역 시군구': '경기 고양시', '여행 횟수': count, '여행월':month})\n",
    "test3.reset_index(drop= True, inplace= True)\n",
    "경기고양시 = test3"
   ]
  },
  {
   "cell_type": "code",
   "execution_count": null,
   "metadata": {},
   "outputs": [],
   "source": []
  },
  {
   "cell_type": "code",
   "execution_count": 17,
   "metadata": {},
   "outputs": [],
   "source": [
    "# 수원시\n",
    "b_list = []\n",
    "for i in range(0, len(test)):\n",
    "    if test['지역 시군구'][i].split()[1] == '수원시':\n",
    "        data = test.iloc[i]\n",
    "        b_list.append(data)\n",
    "test2 = pd.DataFrame(b_list)\n",
    "\n",
    "test2.sort_values(['여행월'], inplace= True)\n",
    "test2.reset_index(drop= True, inplace= True)\n",
    "count = test2.groupby(['여행월'])['여행 횟수'].sum()\n",
    "test3 = pd.DataFrame({'지역 시군구': '경기 수원시', '여행 횟수': count, '여행월':month})\n",
    "test3.reset_index(drop= True, inplace= True)\n",
    "경기수원시 = test3"
   ]
  },
  {
   "cell_type": "code",
   "execution_count": null,
   "metadata": {},
   "outputs": [],
   "source": []
  },
  {
   "cell_type": "code",
   "execution_count": 18,
   "metadata": {},
   "outputs": [],
   "source": [
    "# 안산시\n",
    "b_list = []\n",
    "for i in range(0, len(test)):\n",
    "    if test['지역 시군구'][i].split()[1] == '안산시':\n",
    "        data = test.iloc[i]\n",
    "        b_list.append(data)\n",
    "test2 = pd.DataFrame(b_list)\n",
    "\n",
    "test2.sort_values(['여행월'], inplace= True)\n",
    "test2.reset_index(drop= True, inplace= True)\n",
    "count = test2.groupby(['여행월'])['여행 횟수'].sum()\n",
    "test3 = pd.DataFrame({'지역 시군구': '경기 안산시', '여행 횟수': count, '여행월':month})\n",
    "test3.reset_index(drop= True, inplace= True)\n",
    "경기안산시 = test3"
   ]
  },
  {
   "cell_type": "code",
   "execution_count": null,
   "metadata": {},
   "outputs": [],
   "source": []
  },
  {
   "cell_type": "code",
   "execution_count": 19,
   "metadata": {},
   "outputs": [],
   "source": [
    "# 안양시\n",
    "b_list = []\n",
    "for i in range(0, len(test)):\n",
    "    if test['지역 시군구'][i].split()[1] == '안양시':\n",
    "        data = test.iloc[i]\n",
    "        b_list.append(data)\n",
    "test2 = pd.DataFrame(b_list)\n",
    "\n",
    "test2.sort_values(['여행월'], inplace= True)\n",
    "test2.reset_index(drop= True, inplace= True)\n",
    "count = test2.groupby(['여행월'])['여행 횟수'].sum()\n",
    "test3 = pd.DataFrame({'지역 시군구': '경기 안양시', '여행 횟수': count, '여행월':month})\n",
    "test3.reset_index(drop= True, inplace= True)\n",
    "경기안양시 = test3"
   ]
  },
  {
   "cell_type": "code",
   "execution_count": null,
   "metadata": {},
   "outputs": [],
   "source": []
  },
  {
   "cell_type": "code",
   "execution_count": 20,
   "metadata": {},
   "outputs": [],
   "source": [
    "# 용인시\n",
    "b_list = []\n",
    "for i in range(0, len(test)):\n",
    "    if test['지역 시군구'][i].split()[1] == '용인시':\n",
    "        data = test.iloc[i]\n",
    "        b_list.append(data)\n",
    "test2 = pd.DataFrame(b_list)\n",
    "\n",
    "test2.sort_values(['여행월'], inplace= True)\n",
    "test2.reset_index(drop= True, inplace= True)\n",
    "count = test2.groupby(['여행월'])['여행 횟수'].sum()\n",
    "test3 = pd.DataFrame({'지역 시군구': '경기 용인시', '여행 횟수': count, '여행월':month})\n",
    "test3.reset_index(drop= True, inplace= True)\n",
    "경기용인시 = test3"
   ]
  },
  {
   "cell_type": "code",
   "execution_count": null,
   "metadata": {},
   "outputs": [],
   "source": []
  },
  {
   "cell_type": "code",
   "execution_count": 21,
   "metadata": {},
   "outputs": [],
   "source": [
    "# 창원시\n",
    "b_list = []\n",
    "for i in range(0, len(test)):\n",
    "    if test['지역 시군구'][i].split()[1] == '창원시':\n",
    "        data = test.iloc[i]\n",
    "        b_list.append(data)\n",
    "test2 = pd.DataFrame(b_list)\n",
    "\n",
    "test2.sort_values(['여행월'], inplace= True)\n",
    "test2.reset_index(drop= True, inplace= True)\n",
    "count = test2.groupby(['여행월'])['여행 횟수'].sum()\n",
    "test3 = pd.DataFrame({'지역 시군구': '경기 창원시', '여행 횟수': count, '여행월':month})\n",
    "test3.reset_index(drop= True, inplace= True)\n",
    "경남창원시 = test3"
   ]
  },
  {
   "cell_type": "code",
   "execution_count": null,
   "metadata": {},
   "outputs": [],
   "source": []
  },
  {
   "cell_type": "code",
   "execution_count": 22,
   "metadata": {},
   "outputs": [],
   "source": [
    "# 포항시\n",
    "b_list = []\n",
    "for i in range(0, len(test)):\n",
    "    if test['지역 시군구'][i].split()[1] == '포항시':\n",
    "        data = test.iloc[i]\n",
    "        b_list.append(data)\n",
    "test2 = pd.DataFrame(b_list)\n",
    "\n",
    "test2.sort_values(['여행월'], inplace= True)\n",
    "test2.reset_index(drop= True, inplace= True)\n",
    "count = test2.groupby(['여행월'])['여행 횟수'].sum()\n",
    "test3 = pd.DataFrame({'지역 시군구': '경기 포항시', '여행 횟수': count, '여행월':month})\n",
    "test3.reset_index(drop= True, inplace= True)\n",
    "경북포항시 = test3"
   ]
  },
  {
   "cell_type": "code",
   "execution_count": null,
   "metadata": {},
   "outputs": [],
   "source": []
  },
  {
   "cell_type": "code",
   "execution_count": 23,
   "metadata": {},
   "outputs": [],
   "source": [
    "# 전주시\n",
    "b_list = []\n",
    "for i in range(0, len(test)):\n",
    "    if test['지역 시군구'][i].split()[1] == '전주시':\n",
    "        data = test.iloc[i]\n",
    "        b_list.append(data)\n",
    "test2 = pd.DataFrame(b_list)\n",
    "\n",
    "test2.sort_values(['여행월'], inplace= True)\n",
    "test2.reset_index(drop= True, inplace= True)\n",
    "count = test2.groupby(['여행월'])['여행 횟수'].sum()\n",
    "test3 = pd.DataFrame({'지역 시군구': '경기 전주시', '여행 횟수': count, '여행월':month})\n",
    "test3.reset_index(drop= True, inplace= True)\n",
    "전북전주시 = test3"
   ]
  },
  {
   "cell_type": "code",
   "execution_count": null,
   "metadata": {},
   "outputs": [],
   "source": []
  },
  {
   "cell_type": "code",
   "execution_count": 24,
   "metadata": {},
   "outputs": [],
   "source": [
    "# 천안시\n",
    "b_list = []\n",
    "for i in range(0, len(test)):\n",
    "    if test['지역 시군구'][i].split()[1] == '천안시':\n",
    "        data = test.iloc[i]\n",
    "        b_list.append(data)\n",
    "test2 = pd.DataFrame(b_list)\n",
    "\n",
    "test2.sort_values(['여행월'], inplace= True)\n",
    "test2.reset_index(drop= True, inplace= True)\n",
    "count = test2.groupby(['여행월'])['여행 횟수'].sum()\n",
    "test3 = pd.DataFrame({'지역 시군구': '경기 천안시', '여행 횟수': count, '여행월':month})\n",
    "test3.reset_index(drop= True, inplace= True)\n",
    "충남천안시 = test3"
   ]
  },
  {
   "cell_type": "code",
   "execution_count": null,
   "metadata": {},
   "outputs": [],
   "source": []
  },
  {
   "cell_type": "code",
   "execution_count": 25,
   "metadata": {},
   "outputs": [],
   "source": [
    "# 청주시\n",
    "b_list = []\n",
    "for i in range(0, len(test)):\n",
    "    if test['지역 시군구'][i].split()[1] == '청주시':\n",
    "        data = test.iloc[i]\n",
    "        b_list.append(data)\n",
    "test2 = pd.DataFrame(b_list)\n",
    "\n",
    "test2.sort_values(['여행월'], inplace= True)\n",
    "test2.reset_index(drop= True, inplace= True)\n",
    "count = test2.groupby(['여행월'])['여행 횟수'].sum()\n",
    "test3 = pd.DataFrame({'지역 시군구': '경기 청주시', '여행 횟수': count, '여행월':month})\n",
    "test3.reset_index(drop= True, inplace= True)\n",
    "충북청주시 = test3"
   ]
  },
  {
   "cell_type": "code",
   "execution_count": null,
   "metadata": {},
   "outputs": [],
   "source": []
  },
  {
   "cell_type": "code",
   "execution_count": 26,
   "metadata": {},
   "outputs": [
    {
     "data": {
      "text/html": [
       "<div>\n",
       "<style scoped>\n",
       "    .dataframe tbody tr th:only-of-type {\n",
       "        vertical-align: middle;\n",
       "    }\n",
       "\n",
       "    .dataframe tbody tr th {\n",
       "        vertical-align: top;\n",
       "    }\n",
       "\n",
       "    .dataframe thead th {\n",
       "        text-align: right;\n",
       "    }\n",
       "</style>\n",
       "<table border=\"1\" class=\"dataframe\">\n",
       "  <thead>\n",
       "    <tr style=\"text-align: right;\">\n",
       "      <th></th>\n",
       "      <th>지역 시군구</th>\n",
       "      <th>여행 횟수</th>\n",
       "      <th>여행월</th>\n",
       "    </tr>\n",
       "  </thead>\n",
       "  <tbody>\n",
       "    <tr>\n",
       "      <th>0</th>\n",
       "      <td>경기 고양시</td>\n",
       "      <td>107</td>\n",
       "      <td>1월</td>\n",
       "    </tr>\n",
       "    <tr>\n",
       "      <th>1</th>\n",
       "      <td>경기 고양시</td>\n",
       "      <td>52</td>\n",
       "      <td>2월</td>\n",
       "    </tr>\n",
       "    <tr>\n",
       "      <th>2</th>\n",
       "      <td>경기 고양시</td>\n",
       "      <td>95</td>\n",
       "      <td>3월</td>\n",
       "    </tr>\n",
       "    <tr>\n",
       "      <th>3</th>\n",
       "      <td>경기 고양시</td>\n",
       "      <td>90</td>\n",
       "      <td>4월</td>\n",
       "    </tr>\n",
       "    <tr>\n",
       "      <th>4</th>\n",
       "      <td>경기 고양시</td>\n",
       "      <td>76</td>\n",
       "      <td>5월</td>\n",
       "    </tr>\n",
       "    <tr>\n",
       "      <th>...</th>\n",
       "      <td>...</td>\n",
       "      <td>...</td>\n",
       "      <td>...</td>\n",
       "    </tr>\n",
       "    <tr>\n",
       "      <th>83</th>\n",
       "      <td>경기 청주시</td>\n",
       "      <td>227</td>\n",
       "      <td>4월</td>\n",
       "    </tr>\n",
       "    <tr>\n",
       "      <th>84</th>\n",
       "      <td>경기 청주시</td>\n",
       "      <td>241</td>\n",
       "      <td>5월</td>\n",
       "    </tr>\n",
       "    <tr>\n",
       "      <th>85</th>\n",
       "      <td>경기 청주시</td>\n",
       "      <td>190</td>\n",
       "      <td>6월</td>\n",
       "    </tr>\n",
       "    <tr>\n",
       "      <th>86</th>\n",
       "      <td>경기 청주시</td>\n",
       "      <td>175</td>\n",
       "      <td>7월</td>\n",
       "    </tr>\n",
       "    <tr>\n",
       "      <th>87</th>\n",
       "      <td>경기 청주시</td>\n",
       "      <td>188</td>\n",
       "      <td>8월</td>\n",
       "    </tr>\n",
       "  </tbody>\n",
       "</table>\n",
       "<p>88 rows × 3 columns</p>\n",
       "</div>"
      ],
      "text/plain": [
       "    지역 시군구  여행 횟수 여행월\n",
       "0   경기 고양시    107  1월\n",
       "1   경기 고양시     52  2월\n",
       "2   경기 고양시     95  3월\n",
       "3   경기 고양시     90  4월\n",
       "4   경기 고양시     76  5월\n",
       "..     ...    ...  ..\n",
       "83  경기 청주시    227  4월\n",
       "84  경기 청주시    241  5월\n",
       "85  경기 청주시    190  6월\n",
       "86  경기 청주시    175  7월\n",
       "87  경기 청주시    188  8월\n",
       "\n",
       "[88 rows x 3 columns]"
      ]
     },
     "execution_count": 26,
     "metadata": {},
     "output_type": "execute_result"
    }
   ],
   "source": [
    "# concat\n",
    "df = pd.concat([경기고양시, 경기성남시, 경기수원시, 경기안산시, 경기안양시, 경기용인시, 경남창원시, 경북포항시, 전북전주시, 충남천안시, 충북청주시], axis= 'rows', ignore_index=True)\n",
    "df"
   ]
  },
  {
   "cell_type": "code",
   "execution_count": 27,
   "metadata": {},
   "outputs": [],
   "source": [
    "df.to_csv('./tmap_prep_ver2/tmap_20_destination_modify.csv')"
   ]
  },
  {
   "cell_type": "markdown",
   "metadata": {},
   "source": [
    "# 20년도 OO시 OO구 조정"
   ]
  },
  {
   "cell_type": "code",
   "execution_count": 28,
   "metadata": {},
   "outputs": [],
   "source": [
    "import pandas as pd\n",
    "import numpy as np"
   ]
  },
  {
   "cell_type": "code",
   "execution_count": 33,
   "metadata": {},
   "outputs": [],
   "source": [
    "df = pd.read_csv('./tmap_prep_ver2/prep_tmap_month_20_total_modify.csv', index_col=0)"
   ]
  },
  {
   "cell_type": "code",
   "execution_count": 37,
   "metadata": {},
   "outputs": [],
   "source": [
    "a_list = []\n",
    "for i in range(0, len(df)):\n",
    "    if df['지역 시군구'][i].split()[0] == '서울' or df['지역 시군구'][i].split()[0] == '부산' or df['지역 시군구'][i].split()[0] == '대구' or df['지역 시군구'][i].split()[0] == '인천' or df['지역 시군구'][i].split()[0] == '광주' or df['지역 시군구'][i].split()[0] == '대전' or df['지역 시군구'][i].split()[0] == '울산' or df['지역 시군구'][i].split()[0] == '세종' or df['지역 시군구'][i].split()[0] == '제주':\n",
    "        data = df.iloc[i]\n",
    "        a_list.append(data)\n",
    "test = pd.DataFrame(a_list)"
   ]
  },
  {
   "cell_type": "code",
   "execution_count": 39,
   "metadata": {
    "scrolled": true
   },
   "outputs": [
    {
     "data": {
      "text/html": [
       "<div>\n",
       "<style scoped>\n",
       "    .dataframe tbody tr th:only-of-type {\n",
       "        vertical-align: middle;\n",
       "    }\n",
       "\n",
       "    .dataframe tbody tr th {\n",
       "        vertical-align: top;\n",
       "    }\n",
       "\n",
       "    .dataframe thead th {\n",
       "        text-align: right;\n",
       "    }\n",
       "</style>\n",
       "<table border=\"1\" class=\"dataframe\">\n",
       "  <thead>\n",
       "    <tr style=\"text-align: right;\">\n",
       "      <th></th>\n",
       "      <th>지역 시군구</th>\n",
       "      <th>여행 횟수</th>\n",
       "      <th>여행월</th>\n",
       "    </tr>\n",
       "  </thead>\n",
       "  <tbody>\n",
       "    <tr>\n",
       "      <th>0</th>\n",
       "      <td>광주 광산구</td>\n",
       "      <td>15</td>\n",
       "      <td>1월</td>\n",
       "    </tr>\n",
       "    <tr>\n",
       "      <th>1</th>\n",
       "      <td>광주 남구</td>\n",
       "      <td>10</td>\n",
       "      <td>1월</td>\n",
       "    </tr>\n",
       "    <tr>\n",
       "      <th>2</th>\n",
       "      <td>광주 동구</td>\n",
       "      <td>5</td>\n",
       "      <td>1월</td>\n",
       "    </tr>\n",
       "    <tr>\n",
       "      <th>3</th>\n",
       "      <td>광주 북구</td>\n",
       "      <td>4</td>\n",
       "      <td>1월</td>\n",
       "    </tr>\n",
       "    <tr>\n",
       "      <th>4</th>\n",
       "      <td>광주 서구</td>\n",
       "      <td>47</td>\n",
       "      <td>1월</td>\n",
       "    </tr>\n",
       "    <tr>\n",
       "      <th>...</th>\n",
       "      <td>...</td>\n",
       "      <td>...</td>\n",
       "      <td>...</td>\n",
       "    </tr>\n",
       "    <tr>\n",
       "      <th>568</th>\n",
       "      <td>인천 연수구</td>\n",
       "      <td>79</td>\n",
       "      <td>8월</td>\n",
       "    </tr>\n",
       "    <tr>\n",
       "      <th>569</th>\n",
       "      <td>인천 옹진군</td>\n",
       "      <td>316</td>\n",
       "      <td>8월</td>\n",
       "    </tr>\n",
       "    <tr>\n",
       "      <th>570</th>\n",
       "      <td>인천 중구</td>\n",
       "      <td>189</td>\n",
       "      <td>8월</td>\n",
       "    </tr>\n",
       "    <tr>\n",
       "      <th>571</th>\n",
       "      <td>제주 서귀포시</td>\n",
       "      <td>386</td>\n",
       "      <td>8월</td>\n",
       "    </tr>\n",
       "    <tr>\n",
       "      <th>572</th>\n",
       "      <td>제주 제주시</td>\n",
       "      <td>376</td>\n",
       "      <td>8월</td>\n",
       "    </tr>\n",
       "  </tbody>\n",
       "</table>\n",
       "<p>573 rows × 3 columns</p>\n",
       "</div>"
      ],
      "text/plain": [
       "      지역 시군구  여행 횟수 여행월\n",
       "0     광주 광산구     15  1월\n",
       "1      광주 남구     10  1월\n",
       "2      광주 동구      5  1월\n",
       "3      광주 북구      4  1월\n",
       "4      광주 서구     47  1월\n",
       "..       ...    ...  ..\n",
       "568   인천 연수구     79  8월\n",
       "569   인천 옹진군    316  8월\n",
       "570    인천 중구    189  8월\n",
       "571  제주 서귀포시    386  8월\n",
       "572   제주 제주시    376  8월\n",
       "\n",
       "[573 rows x 3 columns]"
      ]
     },
     "execution_count": 39,
     "metadata": {},
     "output_type": "execute_result"
    }
   ],
   "source": [
    "test.reset_index(drop=True, inplace= True)"
   ]
  },
  {
   "cell_type": "code",
   "execution_count": 40,
   "metadata": {},
   "outputs": [],
   "source": [
    "# 정렬\n",
    "test.sort_values(['지역 시군구', '여행월'], inplace= True)\n",
    "test.reset_index(drop= True, inplace= True)"
   ]
  },
  {
   "cell_type": "code",
   "execution_count": 50,
   "metadata": {},
   "outputs": [
    {
     "data": {
      "text/plain": [
       "array(['광주 광산구', '광주 남구', '광주 동구', '광주 북구', '광주 서구', '대구 남구', '대구 달서구',\n",
       "       '대구 달성군', '대구 동구', '대구 북구', '대구 서구', '대구 수성구', '대구 중구', '대전 대덕구',\n",
       "       '대전 동구', '대전 서구', '대전 유성구', '대전 중구', '부산 강서구', '부산 금정구', '부산 기장군',\n",
       "       '부산 남구', '부산 동구', '부산 동래구', '부산 부산진구', '부산 북구', '부산 사상구', '부산 사하구',\n",
       "       '부산 서구', '부산 수영구', '부산 연제구', '부산 영도구', '부산 중구', '부산 해운대구',\n",
       "       '서울 강남구', '서울 강동구', '서울 강북구', '서울 강서구', '서울 관악구', '서울 광진구',\n",
       "       '서울 구로구', '서울 금천구', '서울 노원구', '서울 도봉구', '서울 동대문구', '서울 동작구',\n",
       "       '서울 마포구', '서울 서대문구', '서울 서초구', '서울 성동구', '서울 성북구', '서울 송파구',\n",
       "       '서울 양천구', '서울 영등포구', '서울 용산구', '서울 은평구', '서울 종로구', '서울 중구',\n",
       "       '서울 중랑구', '세종 .', '세종 세종특별자치시', '울산 남구', '울산 동구', '울산 북구',\n",
       "       '울산 울주군', '울산 중구', '인천 강화군', '인천 계양구', '인천 남동구', '인천 동구', '인천 부평구',\n",
       "       '인천 서구', '인천 연수구', '인천 옹진군', '인천 중구', '제주 서귀포시', '제주 제주시'],\n",
       "      dtype=object)"
      ]
     },
     "execution_count": 50,
     "metadata": {},
     "output_type": "execute_result"
    }
   ],
   "source": [
    "test['지역 시군구'].unique()"
   ]
  },
  {
   "cell_type": "code",
   "execution_count": 51,
   "metadata": {},
   "outputs": [],
   "source": [
    "month = ['1월', '2월', '3월', '4월', '5월', '6월', '7월', '8월']"
   ]
  },
  {
   "cell_type": "code",
   "execution_count": 52,
   "metadata": {},
   "outputs": [],
   "source": [
    "# 서울\n",
    "b_list = []\n",
    "for i in range(0, len(test)):\n",
    "    if test['지역 시군구'][i].split()[0] == '서울':\n",
    "        data = test.iloc[i]\n",
    "        b_list.append(data)\n",
    "test2 = pd.DataFrame(b_list)\n",
    "\n",
    "test2.sort_values(['여행월'], inplace= True)\n",
    "test2.reset_index(drop= True, inplace= True)\n",
    "count = test2.groupby(['여행월'])['여행 횟수'].sum()\n",
    "test3 = pd.DataFrame({'지역 시군구': '서울', '여행 횟수': count, '여행월':month})\n",
    "test3.reset_index(drop= True, inplace= True)\n",
    "서울 = test3"
   ]
  },
  {
   "cell_type": "code",
   "execution_count": 53,
   "metadata": {},
   "outputs": [],
   "source": [
    "# 부산\n",
    "b_list = []\n",
    "for i in range(0, len(test)):\n",
    "    if test['지역 시군구'][i].split()[0] == '부산':\n",
    "        data = test.iloc[i]\n",
    "        b_list.append(data)\n",
    "test2 = pd.DataFrame(b_list)\n",
    "\n",
    "test2.sort_values(['여행월'], inplace= True)\n",
    "test2.reset_index(drop= True, inplace= True)\n",
    "count = test2.groupby(['여행월'])['여행 횟수'].sum()\n",
    "test3 = pd.DataFrame({'지역 시군구': '부산', '여행 횟수': count, '여행월':month})\n",
    "test3.reset_index(drop= True, inplace= True)\n",
    "부산 = test3"
   ]
  },
  {
   "cell_type": "code",
   "execution_count": 54,
   "metadata": {},
   "outputs": [],
   "source": [
    "# 대구\n",
    "b_list = []\n",
    "for i in range(0, len(test)):\n",
    "    if test['지역 시군구'][i].split()[0] == '대구':\n",
    "        data = test.iloc[i]\n",
    "        b_list.append(data)\n",
    "test2 = pd.DataFrame(b_list)\n",
    "\n",
    "test2.sort_values(['여행월'], inplace= True)\n",
    "test2.reset_index(drop= True, inplace= True)\n",
    "count = test2.groupby(['여행월'])['여행 횟수'].sum()\n",
    "test3 = pd.DataFrame({'지역 시군구': '대구', '여행 횟수': count, '여행월':month})\n",
    "test3.reset_index(drop= True, inplace= True)\n",
    "대구 = test3"
   ]
  },
  {
   "cell_type": "code",
   "execution_count": 55,
   "metadata": {},
   "outputs": [],
   "source": [
    "# 인천\n",
    "b_list = []\n",
    "for i in range(0, len(test)):\n",
    "    if test['지역 시군구'][i].split()[0] == '인천':\n",
    "        data = test.iloc[i]\n",
    "        b_list.append(data)\n",
    "test2 = pd.DataFrame(b_list)\n",
    "\n",
    "test2.sort_values(['여행월'], inplace= True)\n",
    "test2.reset_index(drop= True, inplace= True)\n",
    "count = test2.groupby(['여행월'])['여행 횟수'].sum()\n",
    "test3 = pd.DataFrame({'지역 시군구': '인천', '여행 횟수': count, '여행월':month})\n",
    "test3.reset_index(drop= True, inplace= True)\n",
    "인천 = test3"
   ]
  },
  {
   "cell_type": "code",
   "execution_count": 56,
   "metadata": {},
   "outputs": [],
   "source": [
    "# 광주\n",
    "b_list = []\n",
    "for i in range(0, len(test)):\n",
    "    if test['지역 시군구'][i].split()[0] == '광주':\n",
    "        data = test.iloc[i]\n",
    "        b_list.append(data)\n",
    "test2 = pd.DataFrame(b_list)\n",
    "\n",
    "test2.sort_values(['여행월'], inplace= True)\n",
    "test2.reset_index(drop= True, inplace= True)\n",
    "count = test2.groupby(['여행월'])['여행 횟수'].sum()\n",
    "test3 = pd.DataFrame({'지역 시군구': '광주', '여행 횟수': count, '여행월':month})\n",
    "test3.reset_index(drop= True, inplace= True)\n",
    "광주 = test3"
   ]
  },
  {
   "cell_type": "code",
   "execution_count": 57,
   "metadata": {},
   "outputs": [],
   "source": [
    "# 대전\n",
    "b_list = []\n",
    "for i in range(0, len(test)):\n",
    "    if test['지역 시군구'][i].split()[0] == '대전':\n",
    "        data = test.iloc[i]\n",
    "        b_list.append(data)\n",
    "test2 = pd.DataFrame(b_list)\n",
    "\n",
    "test2.sort_values(['여행월'], inplace= True)\n",
    "test2.reset_index(drop= True, inplace= True)\n",
    "count = test2.groupby(['여행월'])['여행 횟수'].sum()\n",
    "test3 = pd.DataFrame({'지역 시군구': '대전', '여행 횟수': count, '여행월':month})\n",
    "test3.reset_index(drop= True, inplace= True)\n",
    "대전 = test3"
   ]
  },
  {
   "cell_type": "code",
   "execution_count": 58,
   "metadata": {},
   "outputs": [],
   "source": [
    "# 울산\n",
    "b_list = []\n",
    "for i in range(0, len(test)):\n",
    "    if test['지역 시군구'][i].split()[0] == '울산':\n",
    "        data = test.iloc[i]\n",
    "        b_list.append(data)\n",
    "test2 = pd.DataFrame(b_list)\n",
    "\n",
    "test2.sort_values(['여행월'], inplace= True)\n",
    "test2.reset_index(drop= True, inplace= True)\n",
    "count = test2.groupby(['여행월'])['여행 횟수'].sum()\n",
    "test3 = pd.DataFrame({'지역 시군구': '울산', '여행 횟수': count, '여행월':month})\n",
    "test3.reset_index(drop= True, inplace= True)\n",
    "울산 = test3"
   ]
  },
  {
   "cell_type": "code",
   "execution_count": 59,
   "metadata": {},
   "outputs": [],
   "source": [
    "# 세종\n",
    "b_list = []\n",
    "for i in range(0, len(test)):\n",
    "    if test['지역 시군구'][i].split()[0] == '세종':\n",
    "        data = test.iloc[i]\n",
    "        b_list.append(data)\n",
    "test2 = pd.DataFrame(b_list)\n",
    "\n",
    "test2.sort_values(['여행월'], inplace= True)\n",
    "test2.reset_index(drop= True, inplace= True)\n",
    "count = test2.groupby(['여행월'])['여행 횟수'].sum()\n",
    "test3 = pd.DataFrame({'지역 시군구': '세종', '여행 횟수': count, '여행월':month})\n",
    "test3.reset_index(drop= True, inplace= True)\n",
    "세종 = test3"
   ]
  },
  {
   "cell_type": "code",
   "execution_count": 60,
   "metadata": {},
   "outputs": [],
   "source": [
    "# 제주\n",
    "b_list = []\n",
    "for i in range(0, len(test)):\n",
    "    if test['지역 시군구'][i].split()[0] == '제주':\n",
    "        data = test.iloc[i]\n",
    "        b_list.append(data)\n",
    "test2 = pd.DataFrame(b_list)\n",
    "\n",
    "test2.sort_values(['여행월'], inplace= True)\n",
    "test2.reset_index(drop= True, inplace= True)\n",
    "count = test2.groupby(['여행월'])['여행 횟수'].sum()\n",
    "test3 = pd.DataFrame({'지역 시군구': '제주', '여행 횟수': count, '여행월':month})\n",
    "test3.reset_index(drop= True, inplace= True)\n",
    "제주 = test3"
   ]
  },
  {
   "cell_type": "code",
   "execution_count": 61,
   "metadata": {},
   "outputs": [
    {
     "data": {
      "text/html": [
       "<div>\n",
       "<style scoped>\n",
       "    .dataframe tbody tr th:only-of-type {\n",
       "        vertical-align: middle;\n",
       "    }\n",
       "\n",
       "    .dataframe tbody tr th {\n",
       "        vertical-align: top;\n",
       "    }\n",
       "\n",
       "    .dataframe thead th {\n",
       "        text-align: right;\n",
       "    }\n",
       "</style>\n",
       "<table border=\"1\" class=\"dataframe\">\n",
       "  <thead>\n",
       "    <tr style=\"text-align: right;\">\n",
       "      <th></th>\n",
       "      <th>지역 시군구</th>\n",
       "      <th>여행 횟수</th>\n",
       "      <th>여행월</th>\n",
       "    </tr>\n",
       "  </thead>\n",
       "  <tbody>\n",
       "    <tr>\n",
       "      <th>0</th>\n",
       "      <td>서울</td>\n",
       "      <td>824</td>\n",
       "      <td>1월</td>\n",
       "    </tr>\n",
       "    <tr>\n",
       "      <th>1</th>\n",
       "      <td>서울</td>\n",
       "      <td>673</td>\n",
       "      <td>2월</td>\n",
       "    </tr>\n",
       "    <tr>\n",
       "      <th>2</th>\n",
       "      <td>서울</td>\n",
       "      <td>774</td>\n",
       "      <td>3월</td>\n",
       "    </tr>\n",
       "    <tr>\n",
       "      <th>3</th>\n",
       "      <td>서울</td>\n",
       "      <td>760</td>\n",
       "      <td>4월</td>\n",
       "    </tr>\n",
       "    <tr>\n",
       "      <th>4</th>\n",
       "      <td>서울</td>\n",
       "      <td>895</td>\n",
       "      <td>5월</td>\n",
       "    </tr>\n",
       "    <tr>\n",
       "      <th>...</th>\n",
       "      <td>...</td>\n",
       "      <td>...</td>\n",
       "      <td>...</td>\n",
       "    </tr>\n",
       "    <tr>\n",
       "      <th>67</th>\n",
       "      <td>제주</td>\n",
       "      <td>561</td>\n",
       "      <td>4월</td>\n",
       "    </tr>\n",
       "    <tr>\n",
       "      <th>68</th>\n",
       "      <td>제주</td>\n",
       "      <td>667</td>\n",
       "      <td>5월</td>\n",
       "    </tr>\n",
       "    <tr>\n",
       "      <th>69</th>\n",
       "      <td>제주</td>\n",
       "      <td>572</td>\n",
       "      <td>6월</td>\n",
       "    </tr>\n",
       "    <tr>\n",
       "      <th>70</th>\n",
       "      <td>제주</td>\n",
       "      <td>648</td>\n",
       "      <td>7월</td>\n",
       "    </tr>\n",
       "    <tr>\n",
       "      <th>71</th>\n",
       "      <td>제주</td>\n",
       "      <td>762</td>\n",
       "      <td>8월</td>\n",
       "    </tr>\n",
       "  </tbody>\n",
       "</table>\n",
       "<p>72 rows × 3 columns</p>\n",
       "</div>"
      ],
      "text/plain": [
       "   지역 시군구  여행 횟수 여행월\n",
       "0      서울    824  1월\n",
       "1      서울    673  2월\n",
       "2      서울    774  3월\n",
       "3      서울    760  4월\n",
       "4      서울    895  5월\n",
       "..    ...    ...  ..\n",
       "67     제주    561  4월\n",
       "68     제주    667  5월\n",
       "69     제주    572  6월\n",
       "70     제주    648  7월\n",
       "71     제주    762  8월\n",
       "\n",
       "[72 rows x 3 columns]"
      ]
     },
     "execution_count": 61,
     "metadata": {},
     "output_type": "execute_result"
    }
   ],
   "source": [
    "# concat\n",
    "df = pd.concat([서울, 부산, 대구, 인천, 광주, 대전, 울산, 세종, 제주], axis= 'rows', ignore_index=True)\n",
    "df"
   ]
  },
  {
   "cell_type": "code",
   "execution_count": 62,
   "metadata": {},
   "outputs": [],
   "source": [
    "df.to_csv('./tmap_prep_ver2/tmap_20_destination_city_modify.csv')"
   ]
  }
 ],
 "metadata": {
  "kernelspec": {
   "display_name": "Python 3",
   "language": "python",
   "name": "python3"
  },
  "language_info": {
   "codemirror_mode": {
    "name": "ipython",
    "version": 3
   },
   "file_extension": ".py",
   "mimetype": "text/x-python",
   "name": "python",
   "nbconvert_exporter": "python",
   "pygments_lexer": "ipython3",
   "version": "3.7.7"
  }
 },
 "nbformat": 4,
 "nbformat_minor": 4
}
