{
 "cells": [
  {
   "cell_type": "code",
   "execution_count": 126,
   "metadata": {},
   "outputs": [],
   "source": [
    "import pandas as pd\n",
    "import datetime\n",
    "import numpy as np"
   ]
  },
  {
   "cell_type": "code",
   "execution_count": 159,
   "metadata": {},
   "outputs": [
    {
     "data": {
      "text/html": [
       "<div>\n",
       "<style scoped>\n",
       "    .dataframe tbody tr th:only-of-type {\n",
       "        vertical-align: middle;\n",
       "    }\n",
       "\n",
       "    .dataframe tbody tr th {\n",
       "        vertical-align: top;\n",
       "    }\n",
       "\n",
       "    .dataframe thead th {\n",
       "        text-align: right;\n",
       "    }\n",
       "</style>\n",
       "<table border=\"1\" class=\"dataframe\">\n",
       "  <thead>\n",
       "    <tr style=\"text-align: right;\">\n",
       "      <th></th>\n",
       "      <th>확진일</th>\n",
       "      <th>지역</th>\n",
       "      <th>거주지</th>\n",
       "    </tr>\n",
       "  </thead>\n",
       "  <tbody>\n",
       "    <tr>\n",
       "      <th>0</th>\n",
       "      <td>10월 4일</td>\n",
       "      <td>충남</td>\n",
       "      <td>공주</td>\n",
       "    </tr>\n",
       "    <tr>\n",
       "      <th>1</th>\n",
       "      <td>10월 4일</td>\n",
       "      <td>충남</td>\n",
       "      <td>공주</td>\n",
       "    </tr>\n",
       "    <tr>\n",
       "      <th>2</th>\n",
       "      <td>10월 2일</td>\n",
       "      <td>충남</td>\n",
       "      <td>홍성</td>\n",
       "    </tr>\n",
       "    <tr>\n",
       "      <th>3</th>\n",
       "      <td>10월 1일</td>\n",
       "      <td>충남</td>\n",
       "      <td>천안</td>\n",
       "    </tr>\n",
       "    <tr>\n",
       "      <th>4</th>\n",
       "      <td>9월 30일</td>\n",
       "      <td>충남</td>\n",
       "      <td>논산</td>\n",
       "    </tr>\n",
       "  </tbody>\n",
       "</table>\n",
       "</div>"
      ],
      "text/plain": [
       "      확진일  지역 거주지\n",
       "0  10월 4일  충남  공주\n",
       "1  10월 4일  충남  공주\n",
       "2  10월 2일  충남  홍성\n",
       "3  10월 1일  충남  천안\n",
       "4  9월 30일  충남  논산"
      ]
     },
     "execution_count": 159,
     "metadata": {},
     "output_type": "execute_result"
    }
   ],
   "source": [
    "# 충남\n",
    "df = pd.read_csv('./datasets/sliced_Chungnam_COVID.csv', index_col=0)\n",
    "df.head()"
   ]
  },
  {
   "cell_type": "code",
   "execution_count": 160,
   "metadata": {},
   "outputs": [],
   "source": [
    "# set datetime\n",
    "# 확진일을 2020.10.04로 바꿔야함\n",
    "# replace 써서 월과 일을 -으로 바꾸고, 앞에 2020 추가\n",
    "\n",
    "# 앞에 2020- 추가\n",
    "for i in range(0, len(df)):\n",
    "    df.iloc[i]['확진일'] = '2020-' + df.iloc[i]['확진일']"
   ]
  },
  {
   "cell_type": "code",
   "execution_count": 161,
   "metadata": {},
   "outputs": [],
   "source": [
    "# replace 써서 월과 일을 -로 바꾸기\n",
    "for i in range(0, len(df)):\n",
    "    df.iloc[i]['확진일'] = df.iloc[i]['확진일'].replace('월 ', '-').replace('일', '')"
   ]
  },
  {
   "cell_type": "code",
   "execution_count": 163,
   "metadata": {},
   "outputs": [],
   "source": [
    "# 확진일을 datetime으로 변환\n",
    "for i in range(0, len(df)):\n",
    "    df.iloc[i]['확진일'] = datetime.datetime.strptime(df.iloc[i]['확진일'], '%Y-%m-%d').date()"
   ]
  },
  {
   "cell_type": "code",
   "execution_count": 164,
   "metadata": {},
   "outputs": [],
   "source": [
    "# 확진일을 확진일자로 rename\n",
    "df.rename(columns = {'확진일' : '확진일자'}, inplace = True)"
   ]
  },
  {
   "cell_type": "code",
   "execution_count": 165,
   "metadata": {},
   "outputs": [],
   "source": [
    "# 컬럼 순서 바꾸기\n",
    "df = df[['거주지', '지역', '확진일자']]"
   ]
  },
  {
   "cell_type": "code",
   "execution_count": 166,
   "metadata": {},
   "outputs": [
    {
     "data": {
      "text/html": [
       "<div>\n",
       "<style scoped>\n",
       "    .dataframe tbody tr th:only-of-type {\n",
       "        vertical-align: middle;\n",
       "    }\n",
       "\n",
       "    .dataframe tbody tr th {\n",
       "        vertical-align: top;\n",
       "    }\n",
       "\n",
       "    .dataframe thead th {\n",
       "        text-align: right;\n",
       "    }\n",
       "</style>\n",
       "<table border=\"1\" class=\"dataframe\">\n",
       "  <thead>\n",
       "    <tr style=\"text-align: right;\">\n",
       "      <th></th>\n",
       "      <th>거주지</th>\n",
       "      <th>지역</th>\n",
       "      <th>확진일자</th>\n",
       "    </tr>\n",
       "  </thead>\n",
       "  <tbody>\n",
       "    <tr>\n",
       "      <th>0</th>\n",
       "      <td>공주</td>\n",
       "      <td>충남</td>\n",
       "      <td>2020-10-04</td>\n",
       "    </tr>\n",
       "    <tr>\n",
       "      <th>1</th>\n",
       "      <td>공주</td>\n",
       "      <td>충남</td>\n",
       "      <td>2020-10-04</td>\n",
       "    </tr>\n",
       "    <tr>\n",
       "      <th>2</th>\n",
       "      <td>홍성</td>\n",
       "      <td>충남</td>\n",
       "      <td>2020-10-02</td>\n",
       "    </tr>\n",
       "    <tr>\n",
       "      <th>3</th>\n",
       "      <td>천안</td>\n",
       "      <td>충남</td>\n",
       "      <td>2020-10-01</td>\n",
       "    </tr>\n",
       "    <tr>\n",
       "      <th>4</th>\n",
       "      <td>논산</td>\n",
       "      <td>충남</td>\n",
       "      <td>2020-09-30</td>\n",
       "    </tr>\n",
       "  </tbody>\n",
       "</table>\n",
       "</div>"
      ],
      "text/plain": [
       "  거주지  지역        확진일자\n",
       "0  공주  충남  2020-10-04\n",
       "1  공주  충남  2020-10-04\n",
       "2  홍성  충남  2020-10-02\n",
       "3  천안  충남  2020-10-01\n",
       "4  논산  충남  2020-09-30"
      ]
     },
     "execution_count": 166,
     "metadata": {},
     "output_type": "execute_result"
    }
   ],
   "source": [
    "df.head()"
   ]
  },
  {
   "cell_type": "code",
   "execution_count": 167,
   "metadata": {},
   "outputs": [],
   "source": [
    "df.to_csv('./datasets/sliced_Chungnam_COVID.csv')"
   ]
  }
 ],
 "metadata": {
  "kernelspec": {
   "display_name": "Python 3",
   "language": "python",
   "name": "python3"
  },
  "language_info": {
   "codemirror_mode": {
    "name": "ipython",
    "version": 3
   },
   "file_extension": ".py",
   "mimetype": "text/x-python",
   "name": "python",
   "nbconvert_exporter": "python",
   "pygments_lexer": "ipython3",
   "version": "3.7.7"
  }
 },
 "nbformat": 4,
 "nbformat_minor": 4
}
