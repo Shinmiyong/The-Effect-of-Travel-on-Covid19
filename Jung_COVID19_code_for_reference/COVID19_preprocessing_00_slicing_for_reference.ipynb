{
 "cells": [
  {
   "cell_type": "code",
   "execution_count": 1,
   "metadata": {},
   "outputs": [],
   "source": [
    "import pandas as pd"
   ]
  },
  {
   "cell_type": "code",
   "execution_count": 98,
   "metadata": {},
   "outputs": [],
   "source": [
    "# 울산\n",
    "df = pd.read_csv('./datasets/Ulsan_COVID.csv', index_col=0)\n",
    "# 울산은 처음에는 짝수에 정보가 있다가 26번에서 바뀜\n",
    "# 그러니까 인덱스 26번을 지우고\n",
    "# reset_index를 하자"
   ]
  },
  {
   "cell_type": "code",
   "execution_count": 63,
   "metadata": {},
   "outputs": [],
   "source": [
    "# 환자를 str으로 변환\n",
    "df['환자'] = df['환자'].astype(str) "
   ]
  },
  {
   "cell_type": "code",
   "execution_count": 64,
   "metadata": {},
   "outputs": [],
   "source": [
    "# 환자의 len이 10 이하인 것으로 if문을 작성\n",
    "df_list = []\n",
    "for i in range(0, len(df)):\n",
    "    if len(df['환자'][i]) < 10:\n",
    "        data = df.iloc[i]\n",
    "        df_list.append(data)"
   ]
  },
  {
   "cell_type": "code",
   "execution_count": 69,
   "metadata": {},
   "outputs": [],
   "source": [
    "df2 = pd.DataFrame(df_list)\n",
    "df2.dropna(inplace= True)"
   ]
  },
  {
   "cell_type": "code",
   "execution_count": 72,
   "metadata": {},
   "outputs": [],
   "source": [
    "# reset_index\n",
    "df2.reset_index(drop= True, inplace= True)"
   ]
  },
  {
   "cell_type": "code",
   "execution_count": 91,
   "metadata": {},
   "outputs": [
    {
     "name": "stderr",
     "output_type": "stream",
     "text": [
      "c:\\users\\007\\anaconda3\\envs\\machinelearning\\lib\\site-packages\\ipykernel_launcher.py:3: SettingWithCopyWarning: \n",
      "A value is trying to be set on a copy of a slice from a DataFrame.\n",
      "Try using .loc[row_indexer,col_indexer] = value instead\n",
      "\n",
      "See the caveats in the documentation: https://pandas.pydata.org/pandas-docs/stable/user_guide/indexing.html#returning-a-view-versus-a-copy\n",
      "  This is separate from the ipykernel package so we can avoid doing imports until\n"
     ]
    }
   ],
   "source": [
    "# 거주지, 확진일 추출\n",
    "# 지역 추가\n",
    "df3 = df2[['거주지','확진일']]\n",
    "df3['지역'] = '울산'"
   ]
  },
  {
   "cell_type": "code",
   "execution_count": 93,
   "metadata": {},
   "outputs": [],
   "source": [
    "df3= df3[['거주지','지역','확진일']]"
   ]
  },
  {
   "cell_type": "code",
   "execution_count": 95,
   "metadata": {},
   "outputs": [],
   "source": [
    "# 저장\n",
    "df3.to_csv('./datasets/sliced_Ulsan_COVID.csv')"
   ]
  },
  {
   "cell_type": "code",
   "execution_count": null,
   "metadata": {},
   "outputs": [],
   "source": []
  },
  {
   "cell_type": "code",
   "execution_count": null,
   "metadata": {},
   "outputs": [],
   "source": []
  },
  {
   "cell_type": "code",
   "execution_count": null,
   "metadata": {},
   "outputs": [],
   "source": []
  },
  {
   "cell_type": "code",
   "execution_count": null,
   "metadata": {},
   "outputs": [],
   "source": []
  },
  {
   "cell_type": "code",
   "execution_count": 102,
   "metadata": {},
   "outputs": [
    {
     "data": {
      "text/html": [
       "<div>\n",
       "<style scoped>\n",
       "    .dataframe tbody tr th:only-of-type {\n",
       "        vertical-align: middle;\n",
       "    }\n",
       "\n",
       "    .dataframe tbody tr th {\n",
       "        vertical-align: top;\n",
       "    }\n",
       "\n",
       "    .dataframe thead th {\n",
       "        text-align: right;\n",
       "    }\n",
       "</style>\n",
       "<table border=\"1\" class=\"dataframe\">\n",
       "  <thead>\n",
       "    <tr style=\"text-align: right;\">\n",
       "      <th></th>\n",
       "      <th>환자</th>\n",
       "      <th>인적사항 및 이동경로</th>\n",
       "      <th>확진일</th>\n",
       "      <th>접촉자 수</th>\n",
       "      <th>격리시설</th>\n",
       "    </tr>\n",
       "  </thead>\n",
       "  <tbody>\n",
       "    <tr>\n",
       "      <th>0</th>\n",
       "      <td>충남#491(공주#10)</td>\n",
       "      <td>공주, 80대</td>\n",
       "      <td>10월 4일</td>\n",
       "      <td>0명</td>\n",
       "      <td>단국대학병원</td>\n",
       "    </tr>\n",
       "    <tr>\n",
       "      <th>1</th>\n",
       "      <td>- 10.3.(토) 공주시보건소 검체 채취, 10.4.(일) 양성판정  - 대전#3...</td>\n",
       "      <td>- 10.3.(토) 공주시보건소 검체 채취, 10.4.(일) 양성판정  - 대전#3...</td>\n",
       "      <td>- 10.3.(토) 공주시보건소 검체 채취, 10.4.(일) 양성판정  - 대전#3...</td>\n",
       "      <td>- 10.3.(토) 공주시보건소 검체 채취, 10.4.(일) 양성판정  - 대전#3...</td>\n",
       "      <td>- 10.3.(토) 공주시보건소 검체 채취, 10.4.(일) 양성판정  - 대전#3...</td>\n",
       "    </tr>\n",
       "    <tr>\n",
       "      <th>2</th>\n",
       "      <td>충남#490(공주#9)</td>\n",
       "      <td>공주, 90대</td>\n",
       "      <td>10월 4일</td>\n",
       "      <td>6명</td>\n",
       "      <td>단국대학병원</td>\n",
       "    </tr>\n",
       "    <tr>\n",
       "      <th>3</th>\n",
       "      <td>- 10.3.(토) 공주시보건소 검체 채취, 10.4.(일) 양성판정  - 대전#3...</td>\n",
       "      <td>- 10.3.(토) 공주시보건소 검체 채취, 10.4.(일) 양성판정  - 대전#3...</td>\n",
       "      <td>- 10.3.(토) 공주시보건소 검체 채취, 10.4.(일) 양성판정  - 대전#3...</td>\n",
       "      <td>- 10.3.(토) 공주시보건소 검체 채취, 10.4.(일) 양성판정  - 대전#3...</td>\n",
       "      <td>- 10.3.(토) 공주시보건소 검체 채취, 10.4.(일) 양성판정  - 대전#3...</td>\n",
       "    </tr>\n",
       "    <tr>\n",
       "      <th>4</th>\n",
       "      <td>충남#489(홍성#25)</td>\n",
       "      <td>홍성, 60대</td>\n",
       "      <td>10월 2일</td>\n",
       "      <td>1명</td>\n",
       "      <td>단국대학병원</td>\n",
       "    </tr>\n",
       "  </tbody>\n",
       "</table>\n",
       "</div>"
      ],
      "text/plain": [
       "                                                  환자  \\\n",
       "0                                      충남#491(공주#10)   \n",
       "1  - 10.3.(토) 공주시보건소 검체 채취, 10.4.(일) 양성판정  - 대전#3...   \n",
       "2                                       충남#490(공주#9)   \n",
       "3  - 10.3.(토) 공주시보건소 검체 채취, 10.4.(일) 양성판정  - 대전#3...   \n",
       "4                                      충남#489(홍성#25)   \n",
       "\n",
       "                                         인적사항 및 이동경로  \\\n",
       "0                                            공주, 80대   \n",
       "1  - 10.3.(토) 공주시보건소 검체 채취, 10.4.(일) 양성판정  - 대전#3...   \n",
       "2                                            공주, 90대   \n",
       "3  - 10.3.(토) 공주시보건소 검체 채취, 10.4.(일) 양성판정  - 대전#3...   \n",
       "4                                            홍성, 60대   \n",
       "\n",
       "                                                 확진일  \\\n",
       "0                                             10월 4일   \n",
       "1  - 10.3.(토) 공주시보건소 검체 채취, 10.4.(일) 양성판정  - 대전#3...   \n",
       "2                                             10월 4일   \n",
       "3  - 10.3.(토) 공주시보건소 검체 채취, 10.4.(일) 양성판정  - 대전#3...   \n",
       "4                                             10월 2일   \n",
       "\n",
       "                                               접촉자 수  \\\n",
       "0                                                 0명   \n",
       "1  - 10.3.(토) 공주시보건소 검체 채취, 10.4.(일) 양성판정  - 대전#3...   \n",
       "2                                                 6명   \n",
       "3  - 10.3.(토) 공주시보건소 검체 채취, 10.4.(일) 양성판정  - 대전#3...   \n",
       "4                                                 1명   \n",
       "\n",
       "                                                격리시설  \n",
       "0                                             단국대학병원  \n",
       "1  - 10.3.(토) 공주시보건소 검체 채취, 10.4.(일) 양성판정  - 대전#3...  \n",
       "2                                             단국대학병원  \n",
       "3  - 10.3.(토) 공주시보건소 검체 채취, 10.4.(일) 양성판정  - 대전#3...  \n",
       "4                                             단국대학병원  "
      ]
     },
     "execution_count": 102,
     "metadata": {},
     "output_type": "execute_result"
    }
   ],
   "source": [
    "# 충남\n",
    "df = pd.read_csv('./datasets/Chungnam_COVID.csv', index_col=0)"
   ]
  },
  {
   "cell_type": "code",
   "execution_count": 103,
   "metadata": {},
   "outputs": [],
   "source": [
    "# 짝수를 뽑아오자\n",
    "cn_list = []\n",
    "for i in range(0, len(df), 2):\n",
    "    cn_even = df.iloc[i]\n",
    "    cn_list.append(cn_even)"
   ]
  },
  {
   "cell_type": "code",
   "execution_count": 114,
   "metadata": {},
   "outputs": [
    {
     "data": {
      "text/html": [
       "<div>\n",
       "<style scoped>\n",
       "    .dataframe tbody tr th:only-of-type {\n",
       "        vertical-align: middle;\n",
       "    }\n",
       "\n",
       "    .dataframe tbody tr th {\n",
       "        vertical-align: top;\n",
       "    }\n",
       "\n",
       "    .dataframe thead th {\n",
       "        text-align: right;\n",
       "    }\n",
       "</style>\n",
       "<table border=\"1\" class=\"dataframe\">\n",
       "  <thead>\n",
       "    <tr style=\"text-align: right;\">\n",
       "      <th></th>\n",
       "      <th>환자</th>\n",
       "      <th>인적사항 및 이동경로</th>\n",
       "      <th>확진일</th>\n",
       "      <th>접촉자 수</th>\n",
       "      <th>격리시설</th>\n",
       "    </tr>\n",
       "  </thead>\n",
       "  <tbody>\n",
       "    <tr>\n",
       "      <th>0</th>\n",
       "      <td>충남#491(공주#10)</td>\n",
       "      <td>공주, 80대</td>\n",
       "      <td>10월 4일</td>\n",
       "      <td>0명</td>\n",
       "      <td>단국대학병원</td>\n",
       "    </tr>\n",
       "    <tr>\n",
       "      <th>1</th>\n",
       "      <td>충남#490(공주#9)</td>\n",
       "      <td>공주, 90대</td>\n",
       "      <td>10월 4일</td>\n",
       "      <td>6명</td>\n",
       "      <td>단국대학병원</td>\n",
       "    </tr>\n",
       "    <tr>\n",
       "      <th>2</th>\n",
       "      <td>충남#489(홍성#25)</td>\n",
       "      <td>홍성, 60대</td>\n",
       "      <td>10월 2일</td>\n",
       "      <td>1명</td>\n",
       "      <td>단국대학병원</td>\n",
       "    </tr>\n",
       "    <tr>\n",
       "      <th>3</th>\n",
       "      <td>충남#488(천안#230)</td>\n",
       "      <td>천안, 30대</td>\n",
       "      <td>10월 1일</td>\n",
       "      <td>2명</td>\n",
       "      <td>천안의료원</td>\n",
       "    </tr>\n",
       "    <tr>\n",
       "      <th>4</th>\n",
       "      <td>충남#487(논산#23)</td>\n",
       "      <td>논산, 유아</td>\n",
       "      <td>9월 30일</td>\n",
       "      <td>0명</td>\n",
       "      <td>홍성의료원</td>\n",
       "    </tr>\n",
       "  </tbody>\n",
       "</table>\n",
       "</div>"
      ],
      "text/plain": [
       "               환자 인적사항 및 이동경로     확진일 접촉자 수    격리시설\n",
       "0   충남#491(공주#10)     공주, 80대  10월 4일    0명  단국대학병원\n",
       "1    충남#490(공주#9)     공주, 90대  10월 4일    6명  단국대학병원\n",
       "2   충남#489(홍성#25)     홍성, 60대  10월 2일    1명  단국대학병원\n",
       "3  충남#488(천안#230)     천안, 30대  10월 1일    2명   천안의료원\n",
       "4   충남#487(논산#23)      논산, 유아  9월 30일    0명   홍성의료원"
      ]
     },
     "execution_count": 114,
     "metadata": {},
     "output_type": "execute_result"
    }
   ],
   "source": [
    "df2 = pd.DataFrame(cn_list)\n",
    "df2.reset_index(drop=True, inplace= True)"
   ]
  },
  {
   "cell_type": "code",
   "execution_count": 116,
   "metadata": {},
   "outputs": [],
   "source": [
    "# 환자의 거주지를 뽑아서\n",
    "# 거주지 컬럼 만들어야함\n",
    "df2['거주지'] = ''\n",
    "for i in range(0, len(df2)):\n",
    "    df2['거주지'][i] = df2.iloc[i]['환자'].split('(')[1].split('#')[0]"
   ]
  },
  {
   "cell_type": "code",
   "execution_count": 120,
   "metadata": {},
   "outputs": [],
   "source": [
    "# '거주지','지역','확진일' 추출\n",
    "df2['지역'] = '충남'\n",
    "df3 = df2[['거주지', '지역', '확진일']]"
   ]
  },
  {
   "cell_type": "code",
   "execution_count": 121,
   "metadata": {},
   "outputs": [
    {
     "data": {
      "text/html": [
       "<div>\n",
       "<style scoped>\n",
       "    .dataframe tbody tr th:only-of-type {\n",
       "        vertical-align: middle;\n",
       "    }\n",
       "\n",
       "    .dataframe tbody tr th {\n",
       "        vertical-align: top;\n",
       "    }\n",
       "\n",
       "    .dataframe thead th {\n",
       "        text-align: right;\n",
       "    }\n",
       "</style>\n",
       "<table border=\"1\" class=\"dataframe\">\n",
       "  <thead>\n",
       "    <tr style=\"text-align: right;\">\n",
       "      <th></th>\n",
       "      <th>거주지</th>\n",
       "      <th>지역</th>\n",
       "      <th>확진일</th>\n",
       "    </tr>\n",
       "  </thead>\n",
       "  <tbody>\n",
       "    <tr>\n",
       "      <th>0</th>\n",
       "      <td>공주</td>\n",
       "      <td>충남</td>\n",
       "      <td>10월 4일</td>\n",
       "    </tr>\n",
       "    <tr>\n",
       "      <th>1</th>\n",
       "      <td>공주</td>\n",
       "      <td>충남</td>\n",
       "      <td>10월 4일</td>\n",
       "    </tr>\n",
       "    <tr>\n",
       "      <th>2</th>\n",
       "      <td>홍성</td>\n",
       "      <td>충남</td>\n",
       "      <td>10월 2일</td>\n",
       "    </tr>\n",
       "    <tr>\n",
       "      <th>3</th>\n",
       "      <td>천안</td>\n",
       "      <td>충남</td>\n",
       "      <td>10월 1일</td>\n",
       "    </tr>\n",
       "    <tr>\n",
       "      <th>4</th>\n",
       "      <td>논산</td>\n",
       "      <td>충남</td>\n",
       "      <td>9월 30일</td>\n",
       "    </tr>\n",
       "  </tbody>\n",
       "</table>\n",
       "</div>"
      ],
      "text/plain": [
       "  거주지  지역     확진일\n",
       "0  공주  충남  10월 4일\n",
       "1  공주  충남  10월 4일\n",
       "2  홍성  충남  10월 2일\n",
       "3  천안  충남  10월 1일\n",
       "4  논산  충남  9월 30일"
      ]
     },
     "execution_count": 121,
     "metadata": {},
     "output_type": "execute_result"
    }
   ],
   "source": [
    "df3.head()"
   ]
  },
  {
   "cell_type": "code",
   "execution_count": 122,
   "metadata": {},
   "outputs": [],
   "source": [
    "df3.to_csv('./datasets/sliced_Chungnam_COVID.csv')"
   ]
  },
  {
   "cell_type": "code",
   "execution_count": null,
   "metadata": {},
   "outputs": [],
   "source": []
  },
  {
   "cell_type": "code",
   "execution_count": null,
   "metadata": {},
   "outputs": [],
   "source": []
  },
  {
   "cell_type": "code",
   "execution_count": 128,
   "metadata": {},
   "outputs": [],
   "source": [
    "# 제주\n",
    "df = pd.read_csv('./datasets/sliced_Jeju_COVID.csv', index_col=0)\n",
    "df = df[['확진일','지역']]\n",
    "df.to_csv('./datasets/sliced_Jeju_COVID.csv')"
   ]
  },
  {
   "cell_type": "code",
   "execution_count": null,
   "metadata": {},
   "outputs": [],
   "source": []
  },
  {
   "cell_type": "code",
   "execution_count": null,
   "metadata": {},
   "outputs": [],
   "source": []
  },
  {
   "cell_type": "code",
   "execution_count": 147,
   "metadata": {},
   "outputs": [],
   "source": [
    "# 충북\n",
    "df = pd.read_csv('./datasets/sliced_Chungbuk_COVID.csv', index_col=0, encoding= 'cp949')\n",
    "df.reset_index(drop= True, inplace= True)"
   ]
  },
  {
   "cell_type": "code",
   "execution_count": 150,
   "metadata": {},
   "outputs": [],
   "source": [
    "df.to_csv('datasets/sliced_Chungbuk_COVID.csv')"
   ]
  }
 ],
 "metadata": {
  "kernelspec": {
   "display_name": "Python 3",
   "language": "python",
   "name": "python3"
  },
  "language_info": {
   "codemirror_mode": {
    "name": "ipython",
    "version": 3
   },
   "file_extension": ".py",
   "mimetype": "text/x-python",
   "name": "python",
   "nbconvert_exporter": "python",
   "pygments_lexer": "ipython3",
   "version": "3.7.7"
  }
 },
 "nbformat": 4,
 "nbformat_minor": 4
}
